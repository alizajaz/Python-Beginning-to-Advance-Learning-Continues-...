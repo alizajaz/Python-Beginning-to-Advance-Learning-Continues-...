{
 "cells": [
  {
   "cell_type": "code",
   "execution_count": 1,
   "id": "310753a1",
   "metadata": {},
   "outputs": [
    {
     "name": "stdout",
     "output_type": "stream",
     "text": [
      "Hello, world!\n"
     ]
    }
   ],
   "source": [
    "print(\"Hello, world!\")\n"
   ]
  },
  {
   "cell_type": "code",
   "execution_count": 2,
   "id": "b834d8e6",
   "metadata": {},
   "outputs": [
    {
     "name": "stdout",
     "output_type": "stream",
     "text": [
      "This is output\n"
     ]
    }
   ],
   "source": [
    "# declare and initialize two variables\n",
    "num1 = 6\n",
    "num2 = 9\n",
    "\n",
    "# print the output\n",
    "print('This is output')"
   ]
  },
  {
   "cell_type": "code",
   "execution_count": 3,
   "id": "54715534",
   "metadata": {},
   "outputs": [
    {
     "name": "stdout",
     "output_type": "stream",
     "text": [
      "Eric Cartman\n"
     ]
    }
   ],
   "source": [
    "# create a variable\n",
    "name = 'Eric Cartman'\n",
    "\n",
    "# print the value\n",
    "print(name)"
   ]
  },
  {
   "cell_type": "code",
   "execution_count": 4,
   "id": "3badad3c",
   "metadata": {},
   "outputs": [
    {
     "name": "stdout",
     "output_type": "stream",
     "text": [
      "Python\n",
      "Django\n"
     ]
    }
   ],
   "source": [
    "print('Python')\n",
    "\n",
    "# print('Error Line )\n",
    "\n",
    "print('Django')"
   ]
  },
  {
   "cell_type": "code",
   "execution_count": 5,
   "id": "d25427ce",
   "metadata": {},
   "outputs": [
    {
     "name": "stdout",
     "output_type": "stream",
     "text": [
      "programiz.pro\n"
     ]
    }
   ],
   "source": [
    "# assign value to site_name variable\n",
    "site_name = 'programiz.pro'\n",
    "\n",
    "print(site_name)\n",
    "\n",
    "# Output: programiz.pro"
   ]
  },
  {
   "cell_type": "code",
   "execution_count": 6,
   "id": "33233c00",
   "metadata": {},
   "outputs": [
    {
     "name": "stdout",
     "output_type": "stream",
     "text": [
      "programiz.pro\n",
      "apple.com\n"
     ]
    }
   ],
   "source": [
    "site_name = 'programiz.pro'\n",
    "print(site_name)\n",
    "\n",
    "# assigning a new value to site_name\n",
    "site_name = 'apple.com'\n",
    "\n",
    "print(site_name)"
   ]
  },
  {
   "cell_type": "code",
   "execution_count": 7,
   "id": "2bb6bade",
   "metadata": {},
   "outputs": [
    {
     "name": "stdout",
     "output_type": "stream",
     "text": [
      "5\n",
      "3.2\n",
      "Hello\n"
     ]
    }
   ],
   "source": [
    "a, b, c = 5, 3.2, 'Hello'\n",
    "\n",
    "print(a)  # prints 5\n",
    "print(b)  # prints 3.2\n",
    "print(c)  # prints Hello "
   ]
  },
  {
   "cell_type": "code",
   "execution_count": 8,
   "id": "9b8c315b",
   "metadata": {},
   "outputs": [
    {
     "name": "stdout",
     "output_type": "stream",
     "text": [
      "programiz.com\n",
      "programiz.com\n"
     ]
    }
   ],
   "source": [
    "site1 = site2  = 'programiz.com'\n",
    "\n",
    "print(site1)  # prints programiz.com\n",
    "print(site2)  # prints programiz.com"
   ]
  },
  {
   "cell_type": "code",
   "execution_count": 14,
   "id": "d3340140",
   "metadata": {},
   "outputs": [
    {
     "ename": "SyntaxError",
     "evalue": "invalid syntax (1401543794.py, line 1)",
     "output_type": "error",
     "traceback": [
      "\u001b[1;36m  Cell \u001b[1;32mIn[14], line 1\u001b[1;36m\u001b[0m\n\u001b[1;33m    var num = 5\u001b[0m\n\u001b[1;37m        ^\u001b[0m\n\u001b[1;31mSyntaxError\u001b[0m\u001b[1;31m:\u001b[0m invalid syntax\n"
     ]
    }
   ],
   "source": [
    "var num = 5 \n",
    "var Num = 55\n",
    "print(num) # 5\n",
    "print(Num) # 55"
   ]
  },
  {
   "cell_type": "code",
   "execution_count": 15,
   "id": "cb6d19f7",
   "metadata": {},
   "outputs": [
    {
     "name": "stdout",
     "output_type": "stream",
     "text": [
      "None\n"
     ]
    }
   ],
   "source": [
    "value = None\n",
    "\n",
    "print(value)\n",
    "\n",
    "# Output: None"
   ]
  },
  {
   "cell_type": "code",
   "execution_count": 16,
   "id": "e4cb00ff",
   "metadata": {},
   "outputs": [
    {
     "name": "stdout",
     "output_type": "stream",
     "text": [
      "['apple', 'mango', 'orange']\n",
      "(1, 2, 3)\n",
      "{'a': 'apple', 'b': 'ball', 'c': 'cat'}\n",
      "{'e', 'o', 'i', 'a', 'u'}\n"
     ]
    }
   ],
   "source": [
    "# list literal\n",
    "fruits = [\"apple\", \"mango\", \"orange\"] \n",
    "print(fruits)\n",
    "\n",
    "# tuple literal\n",
    "numbers = (1, 2, 3) \n",
    "print(numbers)\n",
    "\n",
    "# dictionary literal\n",
    "alphabets = {'a':'apple', 'b':'ball', 'c':'cat'} \n",
    "print(alphabets)\n",
    "\n",
    "# set literal\n",
    "vowels = {'a', 'e', 'i' , 'o', 'u'} \n",
    "print(vowels)"
   ]
  },
  {
   "cell_type": "code",
   "execution_count": 17,
   "id": "40879d32",
   "metadata": {},
   "outputs": [
    {
     "name": "stdout",
     "output_type": "stream",
     "text": [
      "5 is of type <class 'int'>\n",
      "2.0 is of type <class 'float'>\n",
      "(1+2j) is of type <class 'complex'>\n"
     ]
    }
   ],
   "source": [
    "num1 = 5\n",
    "print(num1, 'is of type', type(num1))\n",
    "\n",
    "num2 = 2.0\n",
    "print(num2, 'is of type', type(num2))\n",
    "\n",
    "num3 = 1+2j\n",
    "print(num3, 'is of type', type(num3))"
   ]
  },
  {
   "cell_type": "code",
   "execution_count": 18,
   "id": "a08f853f",
   "metadata": {},
   "outputs": [
    {
     "name": "stdout",
     "output_type": "stream",
     "text": [
      "Swift\n",
      "Python\n"
     ]
    }
   ],
   "source": [
    "languages = [\"Swift\", \"Java\", \"Python\"]\n",
    "\n",
    "# access element at index 0\n",
    "print(languages[0])   # Swift\n",
    "\n",
    "# access element at index 2\n",
    "print(languages[2])   # Python"
   ]
  },
  {
   "cell_type": "code",
   "execution_count": 19,
   "id": "65ad3398",
   "metadata": {},
   "outputs": [
    {
     "name": "stdout",
     "output_type": "stream",
     "text": [
      "Microsoft\n",
      "Xbox\n"
     ]
    }
   ],
   "source": [
    "# create a tuple \n",
    "product = ('Microsoft', 'Xbox', 499.99)\n",
    "\n",
    "# access element at index 0\n",
    "print(product[0])   # Microsoft\n",
    "\n",
    "# access element at index 1\n",
    "print(product[1])   # Xbox\n"
   ]
  },
  {
   "cell_type": "code",
   "execution_count": 20,
   "id": "76dff37e",
   "metadata": {},
   "outputs": [
    {
     "name": "stdout",
     "output_type": "stream",
     "text": [
      "Python\n",
      "Python for beginners\n"
     ]
    }
   ],
   "source": [
    "name = 'Python'\n",
    "print(name)  \n",
    "\n",
    "message = 'Python for beginners'\n",
    "print(message)"
   ]
  },
  {
   "cell_type": "code",
   "execution_count": 21,
   "id": "a0124104",
   "metadata": {},
   "outputs": [
    {
     "name": "stdout",
     "output_type": "stream",
     "text": [
      "{112, 114, 115, 116, 118}\n",
      "<class 'set'>\n"
     ]
    }
   ],
   "source": [
    "# create a set named student_id\n",
    "student_id = {112, 114, 116, 118, 115}\n",
    "\n",
    "# display student_id elements\n",
    "print(student_id)\n",
    "\n",
    "# display type of student_id\n",
    "print(type(student_id))"
   ]
  },
  {
   "cell_type": "code",
   "execution_count": 22,
   "id": "5a9465b8",
   "metadata": {},
   "outputs": [
    {
     "name": "stdout",
     "output_type": "stream",
     "text": [
      "{'Nepal': 'Kathmandu', 'Italy': 'Rome', 'England': 'London'}\n"
     ]
    }
   ],
   "source": [
    "# create a dictionary named capital_city\n",
    "capital_city = {'Nepal': 'Kathmandu', 'Italy': 'Rome', 'England': 'London'}\n",
    "\n",
    "print(capital_city)"
   ]
  },
  {
   "cell_type": "code",
   "execution_count": 23,
   "id": "d5c0b0d2",
   "metadata": {},
   "outputs": [
    {
     "name": "stdout",
     "output_type": "stream",
     "text": [
      "Kathmandu\n"
     ]
    },
    {
     "ename": "KeyError",
     "evalue": "'Kathmandu'",
     "output_type": "error",
     "traceback": [
      "\u001b[1;31m---------------------------------------------------------------------------\u001b[0m",
      "\u001b[1;31mKeyError\u001b[0m                                  Traceback (most recent call last)",
      "Cell \u001b[1;32mIn[23], line 6\u001b[0m\n\u001b[0;32m      2\u001b[0m capital_city \u001b[38;5;241m=\u001b[39m {\u001b[38;5;124m'\u001b[39m\u001b[38;5;124mNepal\u001b[39m\u001b[38;5;124m'\u001b[39m: \u001b[38;5;124m'\u001b[39m\u001b[38;5;124mKathmandu\u001b[39m\u001b[38;5;124m'\u001b[39m, \u001b[38;5;124m'\u001b[39m\u001b[38;5;124mItaly\u001b[39m\u001b[38;5;124m'\u001b[39m: \u001b[38;5;124m'\u001b[39m\u001b[38;5;124mRome\u001b[39m\u001b[38;5;124m'\u001b[39m, \u001b[38;5;124m'\u001b[39m\u001b[38;5;124mEngland\u001b[39m\u001b[38;5;124m'\u001b[39m: \u001b[38;5;124m'\u001b[39m\u001b[38;5;124mLondon\u001b[39m\u001b[38;5;124m'\u001b[39m}\n\u001b[0;32m      4\u001b[0m \u001b[38;5;28mprint\u001b[39m(capital_city[\u001b[38;5;124m'\u001b[39m\u001b[38;5;124mNepal\u001b[39m\u001b[38;5;124m'\u001b[39m])  \u001b[38;5;66;03m# prints Kathmandu\u001b[39;00m\n\u001b[1;32m----> 6\u001b[0m \u001b[38;5;28mprint\u001b[39m(capital_city[\u001b[38;5;124m'\u001b[39m\u001b[38;5;124mKathmandu\u001b[39m\u001b[38;5;124m'\u001b[39m])\n",
      "\u001b[1;31mKeyError\u001b[0m: 'Kathmandu'"
     ]
    }
   ],
   "source": [
    "# create a dictionary named capital_city\n",
    "capital_city = {'Nepal': 'Kathmandu', 'Italy': 'Rome', 'England': 'London'}\n",
    "\n",
    "print(capital_city['Nepal'])  # prints Kathmandu\n",
    "\n",
    "print(capital_city['Kathmandu'])  # throws error message "
   ]
  },
  {
   "cell_type": "code",
   "execution_count": 24,
   "id": "6e8b6ec7",
   "metadata": {},
   "outputs": [
    {
     "name": "stdout",
     "output_type": "stream",
     "text": [
      "Value: 124.23\n",
      "Data Type: <class 'float'>\n"
     ]
    }
   ],
   "source": [
    "integer_number = 123\n",
    "float_number = 1.23\n",
    "\n",
    "new_number = integer_number + float_number\n",
    "\n",
    "# display new value and resulting data type\n",
    "print(\"Value:\",new_number)\n",
    "print(\"Data Type:\",type(new_number))"
   ]
  },
  {
   "cell_type": "code",
   "execution_count": 25,
   "id": "25d22737",
   "metadata": {},
   "outputs": [
    {
     "name": "stdout",
     "output_type": "stream",
     "text": [
      "Data type of num_string before Type Casting: <class 'str'>\n",
      "Data type of num_string after Type Casting: <class 'int'>\n",
      "Sum: 35\n",
      "Data type of num_sum: <class 'int'>\n"
     ]
    }
   ],
   "source": [
    "num_string = '12'\n",
    "num_integer = 23\n",
    "\n",
    "print(\"Data type of num_string before Type Casting:\",type(num_string))\n",
    "\n",
    "# explicit type conversion\n",
    "num_string = int(num_string)\n",
    "\n",
    "print(\"Data type of num_string after Type Casting:\",type(num_string))\n",
    "\n",
    "num_sum = num_integer + num_string\n",
    "\n",
    "print(\"Sum:\",num_sum)\n",
    "print(\"Data type of num_sum:\",type(num_sum))"
   ]
  },
  {
   "cell_type": "code",
   "execution_count": 27,
   "id": "0325a381",
   "metadata": {},
   "outputs": [
    {
     "name": "stdout",
     "output_type": "stream",
     "text": [
      "5\n",
      "-10.6\n",
      "Programiz\n"
     ]
    }
   ],
   "source": [
    "number = -10.6\n",
    "\n",
    "name = \"Programiz\"\n",
    "\n",
    "# print literals     \n",
    "print(5)\n",
    "\n",
    "# print variables\n",
    "print(number)\n",
    "print(name)"
   ]
  },
  {
   "cell_type": "code",
   "execution_count": 28,
   "id": "096a67fc",
   "metadata": {},
   "outputs": [
    {
     "name": "stdout",
     "output_type": "stream",
     "text": [
      "Enter a number: 4\n",
      "You Entered: 4\n",
      "Data type of num: <class 'str'>\n"
     ]
    }
   ],
   "source": [
    "# using input() to take user input\n",
    "num = input('Enter a number: ')\n",
    "\n",
    "print('You Entered:', num)\n",
    "\n",
    "print('Data type of num:', type(num))"
   ]
  },
  {
   "cell_type": "code",
   "execution_count": 29,
   "id": "4c609b2b",
   "metadata": {},
   "outputs": [
    {
     "name": "stdout",
     "output_type": "stream",
     "text": [
      "Sum:  9\n",
      "Subtraction:  5\n",
      "Multiplication:  14\n",
      "Division:  3.5\n",
      "Floor Division:  3\n",
      "Modulo:  1\n",
      "Power:  49\n"
     ]
    }
   ],
   "source": [
    "a = 7\n",
    "b = 2\n",
    "\n",
    "# addition\n",
    "print ('Sum: ', a + b)  \n",
    "\n",
    "# subtraction\n",
    "print ('Subtraction: ', a - b)   \n",
    "\n",
    "# multiplication\n",
    "print ('Multiplication: ', a * b)  \n",
    "\n",
    "# division\n",
    "print ('Division: ', a / b) \n",
    "\n",
    "# floor division\n",
    "print ('Floor Division: ', a // b)\n",
    "\n",
    "# modulo\n",
    "print ('Modulo: ', a % b)  \n",
    "\n",
    "# a to the power b\n",
    "print ('Power: ', a ** b)   "
   ]
  },
  {
   "cell_type": "code",
   "execution_count": 30,
   "id": "6f425fcc",
   "metadata": {},
   "outputs": [
    {
     "name": "stdout",
     "output_type": "stream",
     "text": [
      "15\n"
     ]
    }
   ],
   "source": [
    "# assign 10 to a\n",
    "a = 10\n",
    "\n",
    "# assign 5 to b\n",
    "b = 5 \n",
    "\n",
    "# assign the sum of a and b to a\n",
    "a += b      # a = a + b\n",
    "\n",
    "print(a)\n",
    "\n",
    "# Output: 15"
   ]
  },
  {
   "cell_type": "code",
   "execution_count": 31,
   "id": "7e9ad5e4",
   "metadata": {},
   "outputs": [
    {
     "name": "stdout",
     "output_type": "stream",
     "text": [
      "a == b = False\n",
      "a != b = True\n",
      "a > b = True\n",
      "a < b = False\n",
      "a >= b = True\n",
      "a <= b = False\n"
     ]
    }
   ],
   "source": [
    "a = 5\n",
    "\n",
    "b = 2\n",
    "\n",
    "# equal to operator\n",
    "print('a == b =', a == b)\n",
    "\n",
    "# not equal to operator\n",
    "print('a != b =', a != b)\n",
    "\n",
    "# greater than operator\n",
    "print('a > b =', a > b)\n",
    "\n",
    "# less than operator\n",
    "print('a < b =', a < b)\n",
    "\n",
    "# greater than or equal to operator\n",
    "print('a >= b =', a >= b)\n",
    "\n",
    "# less than or equal to operator\n",
    "print('a <= b =', a <= b)"
   ]
  },
  {
   "cell_type": "code",
   "execution_count": 32,
   "id": "b05be055",
   "metadata": {},
   "outputs": [
    {
     "name": "stdout",
     "output_type": "stream",
     "text": [
      "False\n",
      "True\n",
      "False\n"
     ]
    }
   ],
   "source": [
    "x1 = 5\n",
    "y1 = 5\n",
    "x2 = 'Hello'\n",
    "y2 = 'Hello'\n",
    "x3 = [1,2,3]\n",
    "y3 = [1,2,3]\n",
    "\n",
    "print(x1 is not y1)  # prints False\n",
    "\n",
    "print(x2 is y2)  # prints True\n",
    "\n",
    "print(x3 is y3)  # prints False"
   ]
  },
  {
   "cell_type": "code",
   "execution_count": 33,
   "id": "8a86314b",
   "metadata": {},
   "outputs": [
    {
     "name": "stdout",
     "output_type": "stream",
     "text": [
      "True\n",
      "True\n",
      "True\n",
      "False\n"
     ]
    }
   ],
   "source": [
    "x = 'Hello world'\n",
    "y = {1:'a', 2:'b'}\n",
    "\n",
    "# check if 'H' is present in x string\n",
    "print('H' in x)  # prints True\n",
    "\n",
    "# check if 'hello' is present in x string\n",
    "print('hello' not in x)  # prints True\n",
    "\n",
    "# check if '1' key is present in y\n",
    "print(1 in y)  # prints True\n",
    "\n",
    "# check if 'a' key is present in y\n",
    "print('a' in y)  # prints False"
   ]
  },
  {
   "cell_type": "code",
   "execution_count": 34,
   "id": "a8ab2e7f",
   "metadata": {},
   "outputs": [
    {
     "name": "stdout",
     "output_type": "stream",
     "text": [
      "10\n",
      "20\n",
      "30\n"
     ]
    }
   ],
   "source": [
    "# global_var is in the global namespace\n",
    "global_var = 10\n",
    "\n",
    "def outer_function():\n",
    "    #  outer_var is in the local namespace \n",
    "    outer_var = 20\n",
    "\n",
    "    def inner_function():\n",
    "        #  inner_var is in the nested local namespace \n",
    "        inner_var = 30\n",
    "\n",
    "        print(inner_var)\n",
    "\n",
    "    print(outer_var)\n",
    "\n",
    "    inner_function()\n",
    "\n",
    "# print the value of the global variable\n",
    "print(global_var)\n",
    "\n",
    "# call the outer function and print local and nested local variables\n",
    "outer_function()\n"
   ]
  },
  {
   "cell_type": "code",
   "execution_count": 35,
   "id": "f784f6ec",
   "metadata": {},
   "outputs": [
    {
     "name": "stdout",
     "output_type": "stream",
     "text": [
      "10\n",
      "30\n"
     ]
    }
   ],
   "source": [
    "# define global variable \n",
    "global_var = 10\n",
    "\n",
    "def my_function():\n",
    "    # define local variable\n",
    "    local_var = 20\n",
    "\n",
    "    # modify global variable value \n",
    "    global global_var\n",
    "    global_var = 30\n",
    "\n",
    "# print global variable value\n",
    "print(global_var)\n",
    "\n",
    "# call the function and modify the global variable\n",
    "my_function()\n",
    "\n",
    "# print the modified value of the global variable\n",
    "print(global_var)"
   ]
  },
  {
   "cell_type": "code",
   "execution_count": 36,
   "id": "37fb8e5d",
   "metadata": {},
   "outputs": [
    {
     "name": "stdout",
     "output_type": "stream",
     "text": [
      "Number is positive.\n",
      "The if statement is easy\n"
     ]
    }
   ],
   "source": [
    "number = 10\n",
    "\n",
    "# check if number is greater than 0\n",
    "if number > 0:\n",
    "    print('Number is positive.')\n",
    "\n",
    "print('The if statement is easy')"
   ]
  },
  {
   "cell_type": "code",
   "execution_count": 38,
   "id": "89a268f2",
   "metadata": {},
   "outputs": [
    {
     "name": "stdout",
     "output_type": "stream",
     "text": [
      "Positive number\n",
      "This statement is always executed\n"
     ]
    }
   ],
   "source": [
    "number = 10\n",
    "\n",
    "if number > 0:\n",
    "    print('Positive number')\n",
    "\n",
    "else:\n",
    "    print('Negative number')\n",
    "\n",
    "print('This statement is always executed')\n"
   ]
  },
  {
   "cell_type": "code",
   "execution_count": 39,
   "id": "77b8d6a5",
   "metadata": {},
   "outputs": [
    {
     "name": "stdout",
     "output_type": "stream",
     "text": [
      "Zero\n",
      "This statement is always executed\n"
     ]
    },
    {
     "ename": "NameError",
     "evalue": "name 'Run' is not defined",
     "output_type": "error",
     "traceback": [
      "\u001b[1;31m---------------------------------------------------------------------------\u001b[0m",
      "\u001b[1;31mNameError\u001b[0m                                 Traceback (most recent call last)",
      "Cell \u001b[1;32mIn[39], line 12\u001b[0m\n\u001b[0;32m      9\u001b[0m     \u001b[38;5;28mprint\u001b[39m(\u001b[38;5;124m'\u001b[39m\u001b[38;5;124mNegative number\u001b[39m\u001b[38;5;124m'\u001b[39m)\n\u001b[0;32m     11\u001b[0m \u001b[38;5;28mprint\u001b[39m(\u001b[38;5;124m'\u001b[39m\u001b[38;5;124mThis statement is always executed\u001b[39m\u001b[38;5;124m'\u001b[39m)\n\u001b[1;32m---> 12\u001b[0m Run\n",
      "\u001b[1;31mNameError\u001b[0m: name 'Run' is not defined"
     ]
    }
   ],
   "source": [
    "number = 0\n",
    "\n",
    "if number > 0:\n",
    "    print(\"Positive number\")\n",
    "\n",
    "elif number == 0:\n",
    "    print('Zero')\n",
    "else:\n",
    "    print('Negative number')\n",
    "\n",
    "print('This statement is always executed')\n",
    "Run"
   ]
  },
  {
   "cell_type": "code",
   "execution_count": 40,
   "id": "8d6b6f75",
   "metadata": {},
   "outputs": [
    {
     "name": "stdout",
     "output_type": "stream",
     "text": [
      "Number is positive\n"
     ]
    }
   ],
   "source": [
    "number = 5\n",
    "\n",
    "# outer if statement\n",
    "if (number >= 0):\n",
    "    # inner if statement\n",
    "    if number == 0:\n",
    "      print('Number is 0')\n",
    "    \n",
    "    # inner else statement\n",
    "    else:\n",
    "        print('Number is positive')\n",
    "\n",
    "# outer else statement\n",
    "else:\n",
    "    print('Number is negative')\n",
    "\n",
    "# Output: Number is positive\n"
   ]
  },
  {
   "cell_type": "code",
   "execution_count": 41,
   "id": "590a0fdf",
   "metadata": {},
   "outputs": [
    {
     "name": "stdout",
     "output_type": "stream",
     "text": [
      "Swift\n",
      "Python\n",
      "Go\n",
      "JavaScript\n"
     ]
    }
   ],
   "source": [
    "languages = ['Swift', 'Python', 'Go', 'JavaScript']\n",
    "\n",
    "# run a loop for each item of the list\n",
    "for language in languages:\n",
    "    print(language)"
   ]
  },
  {
   "cell_type": "code",
   "execution_count": 42,
   "id": "b2faaa51",
   "metadata": {},
   "outputs": [
    {
     "name": "stdout",
     "output_type": "stream",
     "text": [
      "0\n",
      "1\n",
      "2\n",
      "3\n"
     ]
    }
   ],
   "source": [
    "# use of range() to define a range of values\n",
    "values = range(4)\n",
    "\n",
    "# iterate from i = 0 to i = 3\n",
    "for i in values:\n",
    "    print(i)"
   ]
  }
 ],
 "metadata": {
  "kernelspec": {
   "display_name": "Python 3 (ipykernel)",
   "language": "python",
   "name": "python3"
  },
  "language_info": {
   "codemirror_mode": {
    "name": "ipython",
    "version": 3
   },
   "file_extension": ".py",
   "mimetype": "text/x-python",
   "name": "python",
   "nbconvert_exporter": "python",
   "pygments_lexer": "ipython3",
   "version": "3.11.4"
  }
 },
 "nbformat": 4,
 "nbformat_minor": 5
}
