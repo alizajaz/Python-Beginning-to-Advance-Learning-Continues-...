{
 "cells": [
  {
   "cell_type": "code",
   "execution_count": 1,
   "id": "f96b4ea5",
   "metadata": {},
   "outputs": [
    {
     "name": "stdout",
     "output_type": "stream",
     "text": [
      "3\n"
     ]
    }
   ],
   "source": [
    "#operator in python \n",
    "print(1+2)"
   ]
  },
  {
   "cell_type": "code",
   "execution_count": 2,
   "id": "e6de48e5",
   "metadata": {},
   "outputs": [
    {
     "name": "stdout",
     "output_type": "stream",
     "text": [
      "3\n"
     ]
    }
   ],
   "source": [
    "a=1\n",
    "b=2\n",
    "c=a+b\n",
    "print(c)\n"
   ]
  },
  {
   "cell_type": "code",
   "execution_count": 3,
   "id": "cc7bdbfc",
   "metadata": {},
   "outputs": [
    {
     "name": "stdout",
     "output_type": "stream",
     "text": [
      "1\n"
     ]
    }
   ],
   "source": [
    "print(3-2)"
   ]
  },
  {
   "cell_type": "code",
   "execution_count": 4,
   "id": "4913ea36",
   "metadata": {},
   "outputs": [
    {
     "name": "stdout",
     "output_type": "stream",
     "text": [
      "15\n"
     ]
    }
   ],
   "source": [
    "print(5*3)"
   ]
  },
  {
   "cell_type": "code",
   "execution_count": 5,
   "id": "b17faba3",
   "metadata": {},
   "outputs": [
    {
     "name": "stdout",
     "output_type": "stream",
     "text": [
      "8\n"
     ]
    }
   ],
   "source": [
    "print(2**3)#exponentiayion operator"
   ]
  },
  {
   "cell_type": "code",
   "execution_count": 6,
   "id": "f814a0d9",
   "metadata": {},
   "outputs": [
    {
     "name": "stdout",
     "output_type": "stream",
     "text": [
      "3.3333333333333335\n"
     ]
    }
   ],
   "source": [
    "print(10/3)#division operator "
   ]
  },
  {
   "cell_type": "code",
   "execution_count": 7,
   "id": "738107ca",
   "metadata": {},
   "outputs": [
    {
     "name": "stdout",
     "output_type": "stream",
     "text": [
      "3\n"
     ]
    }
   ],
   "source": [
    "print(10//3)#if you dont want decimal (integer division operator)"
   ]
  },
  {
   "cell_type": "code",
   "execution_count": 9,
   "id": "8ffeff0b",
   "metadata": {},
   "outputs": [
    {
     "name": "stdout",
     "output_type": "stream",
     "text": [
      "1\n"
     ]
    }
   ],
   "source": [
    "print(10%3)#modulo system the remainder of the 10/3 division will give divide =3 and remainder=1"
   ]
  },
  {
   "cell_type": "code",
   "execution_count": 11,
   "id": "d1ff0175",
   "metadata": {
    "scrolled": true
   },
   "outputs": [
    {
     "name": "stdout",
     "output_type": "stream",
     "text": [
      "Addition:two number 3\n",
      "Substraction:two number 1\n",
      "Multiplication:two number 6\n",
      "Division: 2.0\n",
      "Division: 3.0\n",
      "Division: 3.5\n",
      "Divisionwithout remainder: 2\n",
      "Modulus: 1\n",
      "Divisionwithout remainder: 3\n",
      "Exponential: 9\n",
      "Floating Number,PI 3.14\n",
      "Floating Number,gravity 9.81\n"
     ]
    }
   ],
   "source": [
    "#arithmetic operator \n",
    "print(\"Addition:two number\",1+2)\n",
    "print(\"Substraction:two number\",2-1)\n",
    "print(\"Multiplication:two number\",2*3)\n",
    "print(\"Division:\",4/2)\n",
    "print(\"Division:\",6/2)\n",
    "print(\"Division:\",7/2)\n",
    "print(\"Divisionwithout remainder:\",7//3)\n",
    "print(\"Modulus:\",3%2)\n",
    "print(\"Divisionwithout remainder:\",7//2)\n",
    "print(\"Exponential:\",3**2)\n",
    "print(\"Floating Number,PI\",3.14)\n",
    "print(\"Floating Number,gravity\",9.81)\n",
    "      "
   ]
  },
  {
   "cell_type": "code",
   "execution_count": 12,
   "id": "a5f35297",
   "metadata": {},
   "outputs": [
    {
     "name": "stderr",
     "output_type": "stream",
     "text": [
      "<>:3: SyntaxWarning: 'str' object is not callable; perhaps you missed a comma?\n",
      "<>:3: SyntaxWarning: 'str' object is not callable; perhaps you missed a comma?\n",
      "C:\\Users\\Admin\\AppData\\Local\\Temp\\ipykernel_16080\\3145757567.py:3: SyntaxWarning: 'str' object is not callable; perhaps you missed a comma?\n",
      "  print('Multiplying complex number:'(1+1j)*(1-1j))\n"
     ]
    },
    {
     "name": "stdout",
     "output_type": "stream",
     "text": [
      "Complex number: (1+1j)\n"
     ]
    },
    {
     "ename": "TypeError",
     "evalue": "'str' object is not callable",
     "output_type": "error",
     "traceback": [
      "\u001b[1;31m---------------------------------------------------------------------------\u001b[0m",
      "\u001b[1;31mTypeError\u001b[0m                                 Traceback (most recent call last)",
      "Cell \u001b[1;32mIn[12], line 3\u001b[0m\n\u001b[0;32m      1\u001b[0m \u001b[38;5;66;03m#complex number\u001b[39;00m\n\u001b[0;32m      2\u001b[0m \u001b[38;5;28mprint\u001b[39m(\u001b[38;5;124m'\u001b[39m\u001b[38;5;124mComplex number:\u001b[39m\u001b[38;5;124m'\u001b[39m,\u001b[38;5;241m1\u001b[39m\u001b[38;5;241m+\u001b[39m\u001b[38;5;241m1\u001b[39mj)\n\u001b[1;32m----> 3\u001b[0m \u001b[38;5;28mprint\u001b[39m(\u001b[38;5;124m'\u001b[39m\u001b[38;5;124mMultiplying complex number:\u001b[39m\u001b[38;5;124m'\u001b[39m(\u001b[38;5;241m1\u001b[39m\u001b[38;5;241m+\u001b[39m\u001b[38;5;241m1\u001b[39mj)\u001b[38;5;241m*\u001b[39m(\u001b[38;5;241m1\u001b[39m\u001b[38;5;241m-\u001b[39m\u001b[38;5;241m1\u001b[39mj))\n",
      "\u001b[1;31mTypeError\u001b[0m: 'str' object is not callable"
     ]
    }
   ],
   "source": [
    "#complex number!Complex number are imaginary number \n",
    "print('Complex number:',1+1j)\n",
    "print('Multiplying complex number:'(1+1j)*(1-1j))"
   ]
  },
  {
   "cell_type": "code",
   "execution_count": 1,
   "id": "47c5e20f",
   "metadata": {},
   "outputs": [
    {
     "name": "stdout",
     "output_type": "stream",
     "text": [
      "Area of rectangle 200\n"
     ]
    }
   ],
   "source": [
    "#calculating area of a rectangle \n",
    "length=10\n",
    "width=20\n",
    "area_of_rectangle=length*width\n",
    "print('Area of rectangle',area_of_rectangle)"
   ]
  },
  {
   "cell_type": "code",
   "execution_count": 2,
   "id": "c23a1c51",
   "metadata": {},
   "outputs": [
    {
     "name": "stdout",
     "output_type": "stream",
     "text": [
      "b is not greater than a\n"
     ]
    }
   ],
   "source": [
    "#boolean comparison\n",
    "a = 200\n",
    "b = 33\n",
    "\n",
    "if b > a:\n",
    "  print(\"b is greater than a\")\n",
    "else:\n",
    "  print(\"b is not greater than a\")\n"
   ]
  },
  {
   "cell_type": "code",
   "execution_count": null,
   "id": "e68d15c1",
   "metadata": {},
   "outputs": [],
   "source": []
  },
  {
   "cell_type": "code",
   "execution_count": null,
   "id": "14302624",
   "metadata": {},
   "outputs": [],
   "source": []
  },
  {
   "cell_type": "code",
   "execution_count": null,
   "id": "610f0597",
   "metadata": {},
   "outputs": [],
   "source": []
  },
  {
   "cell_type": "code",
   "execution_count": null,
   "id": "f90b2642",
   "metadata": {},
   "outputs": [],
   "source": []
  },
  {
   "cell_type": "code",
   "execution_count": null,
   "id": "a88137ad",
   "metadata": {},
   "outputs": [],
   "source": []
  }
 ],
 "metadata": {
  "kernelspec": {
   "display_name": "Python 3 (ipykernel)",
   "language": "python",
   "name": "python3"
  },
  "language_info": {
   "codemirror_mode": {
    "name": "ipython",
    "version": 3
   },
   "file_extension": ".py",
   "mimetype": "text/x-python",
   "name": "python",
   "nbconvert_exporter": "python",
   "pygments_lexer": "ipython3",
   "version": "3.11.4"
  }
 },
 "nbformat": 4,
 "nbformat_minor": 5
}
