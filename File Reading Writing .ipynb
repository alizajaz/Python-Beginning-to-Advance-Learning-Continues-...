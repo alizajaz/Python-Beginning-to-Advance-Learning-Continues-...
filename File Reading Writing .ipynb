{
 "cells": [
  {
   "cell_type": "code",
   "execution_count": null,
   "id": "c0c7d4c0",
   "metadata": {},
   "outputs": [],
   "source": [
    "#File Input/Output(to top)\n",
    "#there are alternative ways to read/write files,but using \"with\" is strongly recommendaed as it will automatically close the file.\n",
    "#w means writing file\n",
    "#r means reading only\n",
    "#w+ read and write +complteely overwrite file\n",
    "#a+ -> read and write +append at the bottom\n"
   ]
  },
  {
   "cell_type": "code",
   "execution_count": 4,
   "id": "fa31f9c0",
   "metadata": {},
   "outputs": [],
   "source": [
    "with open('python_file.txt', 'w', encoding='utf-8') as file:\n",
    "    file.write('Content of new file.\\nHi there!\\nContent of new File.\\n I am aliza.\\n I am computer Science student ')"
   ]
  },
  {
   "cell_type": "code",
   "execution_count": 10,
   "id": "03b4a8c6",
   "metadata": {},
   "outputs": [],
   "source": [
    "with open('python_file.txt', 'r', encoding ='utf-8') as file:\n",
    "    file_content=file.read()"
   ]
  },
  {
   "cell_type": "code",
   "execution_count": 11,
   "id": "04884d62",
   "metadata": {},
   "outputs": [
    {
     "data": {
      "text/plain": [
       "'Content of new file.\\nHi there!\\nContent of new File.\\n I am aliza.\\n I am computer Science student\") '"
      ]
     },
     "execution_count": 11,
     "metadata": {},
     "output_type": "execute_result"
    }
   ],
   "source": [
    "file_content"
   ]
  },
  {
   "cell_type": "code",
   "execution_count": 12,
   "id": "6139be54",
   "metadata": {},
   "outputs": [
    {
     "name": "stdout",
     "output_type": "stream",
     "text": [
      "Content of new file.\n",
      "Hi there!\n",
      "Content of new File.\n",
      " I am aliza.\n",
      " I am computer Science student\") \n"
     ]
    }
   ],
   "source": [
    "print(file_content)"
   ]
  },
  {
   "cell_type": "code",
   "execution_count": 17,
   "id": "f23f7b09",
   "metadata": {},
   "outputs": [],
   "source": [
    "with open('new_file.txt','a+',encoding='utf-8') as file:\n",
    "    file.write('\\n'+'New Line.hello how are you')"
   ]
  },
  {
   "cell_type": "code",
   "execution_count": 18,
   "id": "0d5b6887",
   "metadata": {},
   "outputs": [
    {
     "name": "stdout",
     "output_type": "stream",
     "text": [
      "\n",
      "New Line\n",
      "New Line.hello how are you\n"
     ]
    }
   ],
   "source": [
    "with open('new_file.txt','r',encoding='utf-8') as file:\n",
    "    print(file.read())"
   ]
  }
 ],
 "metadata": {
  "kernelspec": {
   "display_name": "Python 3 (ipykernel)",
   "language": "python",
   "name": "python3"
  },
  "language_info": {
   "codemirror_mode": {
    "name": "ipython",
    "version": 3
   },
   "file_extension": ".py",
   "mimetype": "text/x-python",
   "name": "python",
   "nbconvert_exporter": "python",
   "pygments_lexer": "ipython3",
   "version": "3.11.4"
  }
 },
 "nbformat": 4,
 "nbformat_minor": 5
}
