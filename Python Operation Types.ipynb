{
 "cells": [
  {
   "cell_type": "code",
   "execution_count": 2,
   "id": "4e88c45c",
   "metadata": {},
   "outputs": [],
   "source": [
    "# Arithmetic Operation\n",
    "#Addition, Subtraction, Multiplication, Division,floor division.mod,on float value\n",
    "c1=5.6\n",
    "c2=9.0\n"
   ]
  },
  {
   "cell_type": "code",
   "execution_count": 3,
   "id": "2a0ff790",
   "metadata": {},
   "outputs": [
    {
     "data": {
      "text/plain": [
       "14.6"
      ]
     },
     "execution_count": 3,
     "metadata": {},
     "output_type": "execute_result"
    }
   ],
   "source": [
    "c1+c2 #add"
   ]
  },
  {
   "cell_type": "code",
   "execution_count": 23,
   "id": "57facb37",
   "metadata": {},
   "outputs": [
    {
     "name": "stdout",
     "output_type": "stream",
     "text": [
      "14.6\n"
     ]
    }
   ],
   "source": [
    "print(c1+c2)"
   ]
  },
  {
   "cell_type": "code",
   "execution_count": 24,
   "id": "b27f5308",
   "metadata": {},
   "outputs": [
    {
     "name": "stdout",
     "output_type": "stream",
     "text": [
      "5\n",
      "9\n"
     ]
    }
   ],
   "source": [
    "#converting float into int\n",
    "int_c1=int(c1)\n",
    "int_c2=int(c2)\n",
    "print(int_c1)\n",
    "print(int_c2)"
   ]
  },
  {
   "cell_type": "code",
   "execution_count": 25,
   "id": "965f483b",
   "metadata": {},
   "outputs": [
    {
     "name": "stdout",
     "output_type": "stream",
     "text": [
      "14\n"
     ]
    }
   ],
   "source": [
    "print(int_c1+int_c2)"
   ]
  },
  {
   "cell_type": "code",
   "execution_count": 26,
   "id": "71b1c0ec",
   "metadata": {},
   "outputs": [
    {
     "name": "stdout",
     "output_type": "stream",
     "text": [
      "5\n",
      "9\n"
     ]
    }
   ],
   "source": [
    "#using math.floor() function from the math module can also be used to round down a float to the nearest integer:\n",
    "\n",
    "import math\n",
    "int_c1=math.floor(c1)\n",
    "int_c2=math.floor(c2)\n",
    "print(int_c1)\n",
    "print(int_c2)"
   ]
  },
  {
   "cell_type": "code",
   "execution_count": 27,
   "id": "85546102",
   "metadata": {},
   "outputs": [
    {
     "name": "stdout",
     "output_type": "stream",
     "text": [
      "5\n",
      "9\n"
     ]
    }
   ],
   "source": [
    "#using type casting ,perform type casting by simply assigning the float value to an integer variable\n",
    "int_c1=int(c1)\n",
    "int_c2=int(c2)\n",
    "print(int_c1)\n",
    "print(int_c2)"
   ]
  },
  {
   "cell_type": "code",
   "execution_count": 32,
   "id": "2957b465",
   "metadata": {},
   "outputs": [
    {
     "name": "stdout",
     "output_type": "stream",
     "text": [
      "5.6\n",
      "9.0\n"
     ]
    }
   ],
   "source": [
    "#convert to string\n",
    "str_c1=str(c1)\n",
    "str_c2=str(c2)\n",
    "print(str_c1)\n",
    "print(str_c2)"
   ]
  },
  {
   "cell_type": "code",
   "execution_count": 35,
   "id": "eec8ad0c",
   "metadata": {},
   "outputs": [
    {
     "name": "stdout",
     "output_type": "stream",
     "text": [
      "True\n",
      "True\n"
     ]
    }
   ],
   "source": [
    "#convert to boolean\n",
    "bool_c1=bool(c1)\n",
    "bool_c2=bool(c2)\n",
    "print(bool_c1)\n",
    "print(bool_c2)"
   ]
  },
  {
   "cell_type": "code",
   "execution_count": 36,
   "id": "c544f517",
   "metadata": {},
   "outputs": [
    {
     "name": "stdout",
     "output_type": "stream",
     "text": [
      "(5.6+0j)\n",
      "(9+0j)\n"
     ]
    }
   ],
   "source": [
    "#convert to complex\n",
    "complex_c1 = complex(c1)\n",
    "complex_c2 = complex(c2)\n",
    "\n",
    "print(complex_c1)  \n",
    "print(complex_c2) "
   ]
  },
  {
   "cell_type": "code",
   "execution_count": 5,
   "id": "133011e2",
   "metadata": {},
   "outputs": [
    {
     "data": {
      "text/plain": [
       "-3.4000000000000004"
      ]
     },
     "execution_count": 5,
     "metadata": {},
     "output_type": "execute_result"
    }
   ],
   "source": [
    "c1-c2 #sub"
   ]
  },
  {
   "cell_type": "code",
   "execution_count": 6,
   "id": "c2179e52",
   "metadata": {},
   "outputs": [
    {
     "data": {
      "text/plain": [
       "50.4"
      ]
     },
     "execution_count": 6,
     "metadata": {},
     "output_type": "execute_result"
    }
   ],
   "source": [
    "c1*c2 #multiply"
   ]
  },
  {
   "cell_type": "code",
   "execution_count": 9,
   "id": "e033747c",
   "metadata": {},
   "outputs": [
    {
     "data": {
      "text/plain": [
       "0.6222222222222222"
      ]
     },
     "execution_count": 9,
     "metadata": {},
     "output_type": "execute_result"
    }
   ],
   "source": [
    "c1/c2 #division"
   ]
  },
  {
   "cell_type": "code",
   "execution_count": 11,
   "id": "be292b37",
   "metadata": {},
   "outputs": [
    {
     "data": {
      "text/plain": [
       "5.6"
      ]
     },
     "execution_count": 11,
     "metadata": {},
     "output_type": "execute_result"
    }
   ],
   "source": [
    "c1%c2 # outcome is remainder,The modulus operator calculates the remainder when dividing c1 by c2."
   ]
  },
  {
   "cell_type": "code",
   "execution_count": 12,
   "id": "3bffb4e4",
   "metadata": {},
   "outputs": [
    {
     "data": {
      "text/plain": [
       "5416169.448144893"
      ]
     },
     "execution_count": 12,
     "metadata": {},
     "output_type": "execute_result"
    }
   ],
   "source": [
    "c1**c2 # double asterisk ,denote exponentiation or raising one number to the power of another."
   ]
  },
  {
   "cell_type": "code",
   "execution_count": 13,
   "id": "118fc137",
   "metadata": {},
   "outputs": [
    {
     "data": {
      "text/plain": [
       "0.0"
      ]
     },
     "execution_count": 13,
     "metadata": {},
     "output_type": "execute_result"
    }
   ],
   "source": [
    "c1//c2 #floor division,Floor division divides c1 by c2 and rounds down the result to the nearest whole number."
   ]
  },
  {
   "cell_type": "code",
   "execution_count": 14,
   "id": "2ce57916",
   "metadata": {},
   "outputs": [
    {
     "data": {
      "text/plain": [
       "0"
      ]
     },
     "execution_count": 14,
     "metadata": {},
     "output_type": "execute_result"
    }
   ],
   "source": [
    "#we can also do \n",
    "1+-1"
   ]
  },
  {
   "cell_type": "code",
   "execution_count": 20,
   "id": "53a48612",
   "metadata": {},
   "outputs": [
    {
     "name": "stdout",
     "output_type": "stream",
     "text": [
      "I loves chocolate.\n"
     ]
    }
   ],
   "source": [
    "#+operator can also be used to concatenate\n",
    "print('I '+'loves chocolate.')"
   ]
  },
  {
   "cell_type": "code",
   "execution_count": 21,
   "id": "945eefc2",
   "metadata": {},
   "outputs": [
    {
     "name": "stdout",
     "output_type": "stream",
     "text": [
      "16\n"
     ]
    }
   ],
   "source": [
    "#we can combine arithmetic operator to assign operator \n",
    "age=8\n",
    "age+=8 #age=age+8\n",
    "print(age)"
   ]
  },
  {
   "cell_type": "code",
   "execution_count": 22,
   "id": "20a2fc45",
   "metadata": {},
   "outputs": [
    {
     "name": "stdout",
     "output_type": "stream",
     "text": [
      "64\n"
     ]
    }
   ],
   "source": [
    "age=8\n",
    "age*=8 #age=age*8\n",
    "print(age)"
   ]
  },
  {
   "cell_type": "code",
   "execution_count": null,
   "id": "af989847",
   "metadata": {},
   "outputs": [],
   "source": [
    "#comparision operator!\n",
    "#true or false boolean data types\n",
    "#boolean operator:not ,or\n",
    "a=1\n",
    "b=2\n",
    "a==b #false\n",
    "a!=b #true\n",
    "a>b #False\n",
    "a<=b #True"
   ]
  },
  {
   "cell_type": "code",
   "execution_count": null,
   "id": "b374693d",
   "metadata": {},
   "outputs": [],
   "source": [
    "#boolean operator:not,or\n",
    "condition1=True\n",
    "condition2=False\n",
    "not condition1 #False: not condition1 means not true\n",
    "condition1 and condition2 #False\n",
    "condition1 or condition2  #True"
   ]
  },
  {
   "cell_type": "code",
   "execution_count": null,
   "id": "46ad28a3",
   "metadata": {},
   "outputs": [],
   "source": [
    "print(0 or 1)#1:here 0 is False value it return 1\n",
    "print(False or 'hey')##'hey'\n",
    "print('hi' or 'hey')#'hi'\n",
    "print([] or False)##'False',[] is False value it return False\n",
    "print(False or [])##'[]',it will return second option, first is False\n",
    "\n"
   ]
  },
  {
   "cell_type": "code",
   "execution_count": null,
   "id": "a3d8903b",
   "metadata": {},
   "outputs": [],
   "source": [
    "#and\n",
    "print(0 and 1)#0, it evalulate second argument\n",
    "print(1 and 0)#0\n",
    "print(False or 'hey')##False\n",
    "print('hi' or 'hey')#'hey'\n",
    "print([] or False)##[]\n",
    "print(False or [])##False"
   ]
  },
  {
   "cell_type": "code",
   "execution_count": null,
   "id": "83f597be",
   "metadata": {},
   "outputs": [],
   "source": [
    "#is and in operator \n",
    "#\"is\"return both are same object\n",
    "# \"in\"value is contenr in the list\n"
   ]
  },
  {
   "cell_type": "code",
   "execution_count": 31,
   "id": "8ad9cee5",
   "metadata": {},
   "outputs": [
    {
     "ename": "SyntaxError",
     "evalue": "invalid syntax (273789686.py, line 10)",
     "output_type": "error",
     "traceback": [
      "\u001b[1;36m  Cell \u001b[1;32mIn[31], line 10\u001b[1;36m\u001b[0m\n\u001b[1;33m    return True of age>18 else False\u001b[0m\n\u001b[1;37m                ^\u001b[0m\n\u001b[1;31mSyntaxError\u001b[0m\u001b[1;31m:\u001b[0m invalid syntax\n"
     ]
    }
   ],
   "source": [
    "#Tenary operator\n",
    "def is_adult(age):#function comparing age \n",
    "    if age>18:\n",
    "        return True\n",
    "    else:\n",
    "        return False\n",
    "    \n",
    "#Tenary operator\n",
    "def is_adult(age):\n",
    "    return True of age>18 else False"
   ]
  },
  {
   "cell_type": "code",
   "execution_count": 39,
   "id": "a4e78e53",
   "metadata": {},
   "outputs": [
    {
     "name": "stdout",
     "output_type": "stream",
     "text": [
      "Aliza is my name.\n"
     ]
    }
   ],
   "source": [
    "#string \n",
    "'Aliza'\n",
    "name='Aliza'\n",
    "phrase='Aliza '+'is my name.'\n",
    "print(phrase)\n"
   ]
  },
  {
   "cell_type": "code",
   "execution_count": 42,
   "id": "e77a5189",
   "metadata": {},
   "outputs": [
    {
     "name": "stdout",
     "output_type": "stream",
     "text": [
      "Aliza is my name.\n"
     ]
    }
   ],
   "source": [
    "'Aliza'\n",
    "name='Aliza'\n",
    "name+=' is my name.'\n",
    "print(name)"
   ]
  },
  {
   "cell_type": "code",
   "execution_count": 45,
   "id": "940218da",
   "metadata": {},
   "outputs": [
    {
     "name": "stdout",
     "output_type": "stream",
     "text": [
      "I love icecream.\n"
     ]
    }
   ],
   "source": [
    "#convert num to string \n",
    "\n",
    "name='I'\n",
    "name+=' love icecream.'\n",
    "age=str(8)\n",
    "print(name)\n"
   ]
  },
  {
   "cell_type": "code",
   "execution_count": 46,
   "id": "3c149b65",
   "metadata": {},
   "outputs": [
    {
     "name": "stdout",
     "output_type": "stream",
     "text": [
      "My cat is \n",
      "3\n",
      "years old\n"
     ]
    }
   ],
   "source": [
    "#multiline string\n",
    "print('''My cat is \n",
    "3\n",
    "years old''')"
   ]
  },
  {
   "cell_type": "code",
   "execution_count": 47,
   "id": "eb1f4746",
   "metadata": {},
   "outputs": [
    {
     "name": "stdout",
     "output_type": "stream",
     "text": [
      "ALIZA\n"
     ]
    }
   ],
   "source": [
    "print('Aliza'.upper())"
   ]
  },
  {
   "cell_type": "code",
   "execution_count": 48,
   "id": "356243dc",
   "metadata": {},
   "outputs": [
    {
     "name": "stdout",
     "output_type": "stream",
     "text": [
      "aliza\n"
     ]
    }
   ],
   "source": [
    "print('Aliza'.lower())"
   ]
  },
  {
   "cell_type": "code",
   "execution_count": 67,
   "id": "3914ab2f",
   "metadata": {},
   "outputs": [
    {
     "name": "stdout",
     "output_type": "stream",
     "text": [
      "aliza\n",
      "Aliza\n",
      "5\n",
      "True\n",
      "False\n"
     ]
    }
   ],
   "source": [
    "#string return new modifies string\n",
    "name='Aliza'\n",
    "print(name.lower())\n",
    "print (name)\n",
    "print (len(name))\n",
    "print('iz' in name)\n",
    "print('t' in name)\n",
    "\n",
    "\n",
    "\n"
   ]
  },
  {
   "cell_type": "code",
   "execution_count": 74,
   "id": "ee9e0cdb",
   "metadata": {},
   "outputs": [
    {
     "name": "stdout",
     "output_type": "stream",
     "text": [
      "Al\\iza\n"
     ]
    }
   ],
   "source": [
    "#add \"\" in string\n",
    "#name='Al\\niza'\n",
    "name='Al\\\\iza'\n",
    "print (name)\n",
    "\n"
   ]
  },
  {
   "cell_type": "code",
   "execution_count": 77,
   "id": "82d17e63",
   "metadata": {},
   "outputs": [
    {
     "name": "stdout",
     "output_type": "stream",
     "text": [
      "l\n",
      "a\n",
      "z\n"
     ]
    }
   ],
   "source": [
    "name='Aliza'\n",
    "print (name[1])\n",
    "print (name[-1])\n",
    "print (name[3])\n"
   ]
  },
  {
   "cell_type": "code",
   "execution_count": 85,
   "id": "8c94c623",
   "metadata": {},
   "outputs": [
    {
     "name": "stdout",
     "output_type": "stream",
     "text": [
      "l\n",
      "li\n",
      "iza is \n",
      "Aliza i\n",
      " is cool.\n"
     ]
    }
   ],
   "source": [
    "#slicing\n",
    "name='Aliza is cool.'\n",
    "print(name[1:2])\n",
    "print (name[1:3])\n",
    "print (name[2:9])\n",
    "print (name[:7])\n",
    "print (name[5:])"
   ]
  },
  {
   "cell_type": "code",
   "execution_count": 87,
   "id": "c5cc0fa3",
   "metadata": {},
   "outputs": [
    {
     "name": "stdout",
     "output_type": "stream",
     "text": [
      "Yes\n"
     ]
    }
   ],
   "source": [
    "#boolean\n",
    "done=True\n",
    "if done:\n",
    "    print('Yes')\n",
    "else:\n",
    "    print('No')\n",
    "\n"
   ]
  },
  {
   "cell_type": "code",
   "execution_count": 89,
   "id": "44cfdd9c",
   "metadata": {},
   "outputs": [
    {
     "name": "stdout",
     "output_type": "stream",
     "text": [
      "No\n"
     ]
    }
   ],
   "source": [
    "#boolean\n",
    "done=False\n",
    "if done:\n",
    "    print('Yes')\n",
    "else:\n",
    "    print('No')\n"
   ]
  },
  {
   "cell_type": "code",
   "execution_count": 90,
   "id": "484b02cc",
   "metadata": {},
   "outputs": [
    {
     "name": "stdout",
     "output_type": "stream",
     "text": [
      "No\n"
     ]
    }
   ],
   "source": [
    "#boolean\n",
    "done=0\n",
    "if done:\n",
    "    print('Yes')\n",
    "else:\n",
    "    print('No')"
   ]
  },
  {
   "cell_type": "code",
   "execution_count": 91,
   "id": "560a453e",
   "metadata": {},
   "outputs": [
    {
     "name": "stdout",
     "output_type": "stream",
     "text": [
      "Yes\n"
     ]
    }
   ],
   "source": [
    "#boolean\n",
    "done=-1\n",
    "if done:\n",
    "    print('Yes')\n",
    "else:\n",
    "    print('No')"
   ]
  },
  {
   "cell_type": "code",
   "execution_count": 92,
   "id": "1ad9060c",
   "metadata": {},
   "outputs": [
    {
     "name": "stdout",
     "output_type": "stream",
     "text": [
      "No\n"
     ]
    }
   ],
   "source": [
    "#string are false when its empty\n",
    "#boolean\n",
    "done=''\n",
    "if done:\n",
    "    print('Yes')\n",
    "else:\n",
    "    print('No')"
   ]
  },
  {
   "cell_type": "code",
   "execution_count": 93,
   "id": "1d625501",
   "metadata": {},
   "outputs": [
    {
     "name": "stdout",
     "output_type": "stream",
     "text": [
      "Yes\n"
     ]
    }
   ],
   "source": [
    "#boolean\n",
    "done='Aliza'\n",
    "if done:\n",
    "    print('Yes')\n",
    "else:\n",
    "    print('No')"
   ]
  },
  {
   "cell_type": "code",
   "execution_count": 95,
   "id": "86a173b8",
   "metadata": {},
   "outputs": [
    {
     "name": "stdout",
     "output_type": "stream",
     "text": [
      "True\n",
      "Yes\n"
     ]
    }
   ],
   "source": [
    "#check value is boolean\n",
    "done=True\n",
    "print(type(done)==bool)\n",
    "if done:\n",
    "    print('Yes')\n",
    "else:\n",
    "    print('No')"
   ]
  },
  {
   "cell_type": "code",
   "execution_count": 96,
   "id": "49c7630e",
   "metadata": {},
   "outputs": [
    {
     "name": "stdout",
     "output_type": "stream",
     "text": [
      "False\n",
      "Yes\n"
     ]
    }
   ],
   "source": [
    "#check value is boolean\n",
    "done='Aliza'\n",
    "print(type(done)==bool)\n",
    "if done:\n",
    "    print('Yes')\n",
    "else:\n",
    "    print('No')"
   ]
  },
  {
   "cell_type": "code",
   "execution_count": 108,
   "id": "fe6e9a07",
   "metadata": {},
   "outputs": [],
   "source": [
    "#Number Data Type\n",
    "#all means all should be either true or false,return false\n",
    "ingredients_purchased=True\n",
    "meal_cooked=False\n",
    "ready_to_serve=all([ingredients_purchased,meal_cooked])\n"
   ]
  },
  {
   "cell_type": "code",
   "execution_count": 107,
   "id": "99eb332e",
   "metadata": {},
   "outputs": [],
   "source": [
    "#return True because there is \"any\"\n",
    "book_1_read=True\n",
    "book_2_read=False\n",
    "read_any_book=any([book_1_read,book_2_read])\n"
   ]
  },
  {
   "cell_type": "code",
   "execution_count": 122,
   "id": "dae1ed57",
   "metadata": {},
   "outputs": [
    {
     "ename": "TypeError",
     "evalue": "'complex' object is not callable",
     "output_type": "error",
     "traceback": [
      "\u001b[1;31m---------------------------------------------------------------------------\u001b[0m",
      "\u001b[1;31mTypeError\u001b[0m                                 Traceback (most recent call last)",
      "Cell \u001b[1;32mIn[122], line 2\u001b[0m\n\u001b[0;32m      1\u001b[0m num1 \u001b[38;5;241m=\u001b[39m \u001b[38;5;241m2\u001b[39m \u001b[38;5;241m+\u001b[39m \u001b[38;5;241m3\u001b[39mj  \u001b[38;5;66;03m# j is used to represent the imaginary part\u001b[39;00m\n\u001b[1;32m----> 2\u001b[0m num2 \u001b[38;5;241m=\u001b[39m \u001b[38;5;28mcomplex\u001b[39m(\u001b[38;5;241m2\u001b[39m, \u001b[38;5;241m3\u001b[39m)  \u001b[38;5;66;03m# Creating a complex number using the complex() constructor\u001b[39;00m\n\u001b[0;32m      4\u001b[0m \u001b[38;5;28mprint\u001b[39m(num2\u001b[38;5;241m.\u001b[39mreal, num2\u001b[38;5;241m.\u001b[39mimag)\n",
      "\u001b[1;31mTypeError\u001b[0m: 'complex' object is not callable"
     ]
    }
   ],
   "source": [
    "num1 = 2 + 3j  # j is used to represent the imaginary part\n",
    "num2 = complex(2, 3)  # Creating a complex number using the complex() constructor\n",
    "\n",
    "print(num2.real, num2.imag)\n"
   ]
  }
 ],
 "metadata": {
  "kernelspec": {
   "display_name": "Python 3 (ipykernel)",
   "language": "python",
   "name": "python3"
  },
  "language_info": {
   "codemirror_mode": {
    "name": "ipython",
    "version": 3
   },
   "file_extension": ".py",
   "mimetype": "text/x-python",
   "name": "python",
   "nbconvert_exporter": "python",
   "pygments_lexer": "ipython3",
   "version": "3.11.4"
  }
 },
 "nbformat": 4,
 "nbformat_minor": 5
}
