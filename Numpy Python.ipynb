{
 "cells": [
  {
   "cell_type": "code",
   "execution_count": 3,
   "id": "1e76d751",
   "metadata": {},
   "outputs": [
    {
     "name": "stdout",
     "output_type": "stream",
     "text": [
      "Requirement already satisfied: numpy in c:\\users\\admin\\anaconda3\\lib\\site-packages (1.24.3)\n",
      "Note: you may need to restart the kernel to use updated packages.\n"
     ]
    }
   ],
   "source": [
    "pip install numpy\n"
   ]
  },
  {
   "cell_type": "code",
   "execution_count": 1,
   "id": "cd5578f4",
   "metadata": {},
   "outputs": [
    {
     "name": "stdout",
     "output_type": "stream",
     "text": [
      "[1 2 3 4 5]\n"
     ]
    }
   ],
   "source": [
    "import numpy\n",
    "\n",
    "arr = numpy.array([1, 2, 3, 4, 5])\n",
    "\n",
    "print(arr)\n"
   ]
  },
  {
   "cell_type": "code",
   "execution_count": 2,
   "id": "8f01ae54",
   "metadata": {},
   "outputs": [
    {
     "name": "stdout",
     "output_type": "stream",
     "text": [
      "1.24.3\n"
     ]
    }
   ],
   "source": [
    "import numpy as np\n",
    "\n",
    "print(np.__version__)\n",
    "\n"
   ]
  },
  {
   "cell_type": "code",
   "execution_count": 4,
   "id": "193bc105",
   "metadata": {},
   "outputs": [
    {
     "name": "stdout",
     "output_type": "stream",
     "text": [
      "[1 2 3 4 5 6]\n",
      "<class 'numpy.ndarray'>\n"
     ]
    }
   ],
   "source": [
    "import numpy as np \n",
    "array=np.array([1,2,3,4,5,6])\n",
    "print(array)\n",
    "print(type(array))"
   ]
  },
  {
   "cell_type": "code",
   "execution_count": 6,
   "id": "b2d9c614",
   "metadata": {},
   "outputs": [
    {
     "name": "stdout",
     "output_type": "stream",
     "text": [
      "4\n"
     ]
    }
   ],
   "source": [
    "import numpy as np\n",
    "\n",
    "arr = np.array(4)\n",
    "\n",
    "print(arr)\n"
   ]
  },
  {
   "cell_type": "code",
   "execution_count": 7,
   "id": "f5325c84",
   "metadata": {},
   "outputs": [
    {
     "name": "stdout",
     "output_type": "stream",
     "text": [
      "[1 2 3 4 5]\n"
     ]
    }
   ],
   "source": [
    "import numpy as np\n",
    "\n",
    "arr = np.array([1, 2, 3, 4, 5])\n",
    "\n",
    "print(arr)"
   ]
  },
  {
   "cell_type": "code",
   "execution_count": 8,
   "id": "178b680f",
   "metadata": {},
   "outputs": [
    {
     "name": "stdout",
     "output_type": "stream",
     "text": [
      "[[1 2 3]\n",
      " [4 5 6]]\n"
     ]
    }
   ],
   "source": [
    "import numpy as np\n",
    "\n",
    "arr = np.array([[1, 2, 3], [4, 5, 6]])\n",
    "\n",
    "print(arr)\n"
   ]
  },
  {
   "cell_type": "code",
   "execution_count": 9,
   "id": "f6cd1c3c",
   "metadata": {},
   "outputs": [
    {
     "name": "stdout",
     "output_type": "stream",
     "text": [
      "[[[1 2 3]\n",
      "  [4 5 6]]\n",
      "\n",
      " [[1 2 3]\n",
      "  [4 5 6]]]\n"
     ]
    }
   ],
   "source": [
    "import numpy as np\n",
    "\n",
    "arr = np.array([[[1, 2, 3], [4, 5, 6]], [[1, 2, 3], [4, 5, 6]]])\n",
    "\n",
    "print(arr)"
   ]
  },
  {
   "cell_type": "code",
   "execution_count": 10,
   "id": "0c2c3d62",
   "metadata": {},
   "outputs": [
    {
     "name": "stdout",
     "output_type": "stream",
     "text": [
      "0\n",
      "1\n",
      "2\n",
      "3\n"
     ]
    }
   ],
   "source": [
    "#ndim attribute that returns an integer that tells us how many dimensions the array have.\n",
    "import numpy as np\n",
    "\n",
    "a = np.array(42)\n",
    "b = np.array([1, 2, 3, 4, 5])\n",
    "c = np.array([[1, 2, 3], [4, 5, 6]])\n",
    "d = np.array([[[1, 2, 3], [4, 5, 6]], [[1, 2, 3], [4, 5, 6]]])\n",
    "\n",
    "print(a.ndim)\n",
    "print(b.ndim)\n",
    "print(c.ndim)\n",
    "print(d.ndim)"
   ]
  },
  {
   "cell_type": "code",
   "execution_count": 13,
   "id": "cf4f1168",
   "metadata": {},
   "outputs": [
    {
     "name": "stdout",
     "output_type": "stream",
     "text": [
      "[[[[[1 2 3 4]]]]]\n",
      "number of dimensions : 5\n"
     ]
    }
   ],
   "source": [
    "import numpy as np\n",
    "\n",
    "arr = np.array([1, 2, 3, 4], ndmin=5)\n",
    "\n",
    "print(arr)\n",
    "print('number of dimensions :', arr.ndim)"
   ]
  },
  {
   "cell_type": "code",
   "execution_count": 14,
   "id": "fc50d5ee",
   "metadata": {},
   "outputs": [
    {
     "name": "stdout",
     "output_type": "stream",
     "text": [
      "[[[[[[[[[[1 2 3 4]]]]]]]]]]\n",
      "number of dimensions : 10\n"
     ]
    }
   ],
   "source": [
    "import numpy as np\n",
    "\n",
    "arr = np.array([1, 2, 3, 4], ndmin=10)\n",
    "\n",
    "print(arr)\n",
    "print('number of dimensions :', arr.ndim)"
   ]
  },
  {
   "cell_type": "code",
   "execution_count": 20,
   "id": "e44097bf",
   "metadata": {},
   "outputs": [],
   "source": [
    "#slicing\n",
    "#a[0,1,0:2]\n",
    "#0 means [10,20,30],[40,50,60]\n",
    "#1 means [70,80,90],[100,110,120]\n",
    "#a[0,1,0:2] since 0 means [10,20,30],[40,50,60], \n",
    "#see next number which is 1 [40,50,60] now next see 0:2 then check in [40,50,60] where 0,1,2 index we need 0:2 thats means 40,50\n",
    "#  a=np.array9[[10,20,30],[40,50,60]],[[70,80,90],[100,110,120]]\n",
    "#  a[0,1,0:2]\n",
    "#answer is \n",
    "#[40,50]"
   ]
  },
  {
   "cell_type": "code",
   "execution_count": 29,
   "id": "63a6b475",
   "metadata": {},
   "outputs": [
    {
     "name": "stdout",
     "output_type": "stream",
     "text": [
      "[10 20 30 40 50 60]\n",
      "a[::]= [10 20 30 40 50 60]\n",
      "a[::2]= [10 30 50]\n",
      "a[:4]= [10 20 30 40]\n",
      "a[-1:]= [60]\n",
      "a[-1::-1]= [60 50 40 30 20 10]\n"
     ]
    }
   ],
   "source": [
    "import numpy as np\n",
    "a=np.array([10,20,30,40,50,60])\n",
    "print(a)\n",
    "print(\"a[::]=\", a[::])# by default its gonna be 0:0:1 which is start index ,stop index(length of array ) and 1\n",
    "print(\"a[::2]=\", a[::2])#here start will be printed which is 0 thats means 10 and difference is 2, it will skip 20 and print 30 and then 50 will be printed \n",
    "print(\"a[:4]=\", a[:4])#here we are giving start index which is 0 and end index 4, it exclude 1\n",
    "print(\"a[-1:]=\",a[-1:])#last index value will be printed\n",
    "print(\"a[-1::-1]=\",a[-1::-1])"
   ]
  },
  {
   "cell_type": "code",
   "execution_count": 35,
   "id": "0b93035b",
   "metadata": {},
   "outputs": [
    {
     "name": "stdout",
     "output_type": "stream",
     "text": [
      "[[10 20 30 40]\n",
      " [50 60 70 80]]\n",
      "b[0,0:3]= [10 20 30]\n",
      "b[1,2:]= [70 80]\n",
      "b[0:2,0:2]= [[10 20]\n",
      " [50 60]]\n"
     ]
    }
   ],
   "source": [
    "b=np.array([[10,20,30,40],[50,60,70,80]])\n",
    "print(b)\n",
    "print(\"b[0,0:3]=\",b[0,0:3])\n",
    "print(\"b[1,2:]=\",b[1,2:])\n",
    "print(\"b[0:2,0:2]=\",b[0:2,0:2])"
   ]
  },
  {
   "cell_type": "code",
   "execution_count": 36,
   "id": "99b2f63f",
   "metadata": {},
   "outputs": [
    {
     "name": "stdout",
     "output_type": "stream",
     "text": [
      "[[[ 10  20  30]\n",
      "  [ 40  50  60]]\n",
      "\n",
      " [[ 70  80  90]\n",
      "  [100 110 120]]]\n"
     ]
    }
   ],
   "source": [
    "c=np.array([[[10,20,30],[40,50,60]],[[70,80,90],[100,110,120]]])\n",
    "print(c)"
   ]
  },
  {
   "cell_type": "code",
   "execution_count": 37,
   "id": "181b87db",
   "metadata": {},
   "outputs": [
    {
     "name": "stdout",
     "output_type": "stream",
     "text": [
      "[[[ 10  20  30]\n",
      "  [ 40  50  60]]\n",
      "\n",
      " [[ 70  80  90]\n",
      "  [100 110 120]]]\n",
      "c[1,0,0:2]= [70 80]\n"
     ]
    }
   ],
   "source": [
    "c=np.array([[[10,20,30],[40,50,60]],[[70,80,90],[100,110,120]]])\n",
    "print(c)\n",
    "print(\"c[1,0,0:2]=\",c[1,0,0:2])"
   ]
  },
  {
   "cell_type": "code",
   "execution_count": 40,
   "id": "4ab7aa27",
   "metadata": {},
   "outputs": [
    {
     "name": "stdout",
     "output_type": "stream",
     "text": [
      "c[1,1,0:2]= [100 110]\n"
     ]
    }
   ],
   "source": [
    "c=np.array([[[10,20,30],[40,50,60]],[[70,80,90],[100,110,120]]])\n",
    "# print(c)\n",
    "print(\"c[1,1,0:2]=\",c[1,1,0:2])"
   ]
  },
  {
   "cell_type": "code",
   "execution_count": 43,
   "id": "af0cfb36",
   "metadata": {},
   "outputs": [
    {
     "name": "stdout",
     "output_type": "stream",
     "text": [
      "c[1,1,-1::-1]= [120 110 100]\n"
     ]
    }
   ],
   "source": [
    "c=np.array([[[10,20,30],[40,50,60]],[[70,80,90],[100,110,120]]])\n",
    "# print(c)\n",
    "print(\"c[1,1,-1::-1]=\",c[1,1,-1::-1])"
   ]
  },
  {
   "cell_type": "code",
   "execution_count": 45,
   "id": "e1c87589",
   "metadata": {},
   "outputs": [
    {
     "name": "stdout",
     "output_type": "stream",
     "text": [
      "c[0:2,0:2,0:2]= [[[ 10  20]\n",
      "  [ 40  50]]\n",
      "\n",
      " [[ 70  80]\n",
      "  [100 110]]]\n"
     ]
    }
   ],
   "source": [
    "c=np.array([[[10,20,30],[40,50,60]],[[70,80,90],[100,110,120]]])\n",
    "# print(c)\n",
    "print(\"c[0:2,0:2,0:2]=\",c[0:2,0:2,0:2])"
   ]
  }
 ],
 "metadata": {
  "kernelspec": {
   "display_name": "Python 3 (ipykernel)",
   "language": "python",
   "name": "python3"
  },
  "language_info": {
   "codemirror_mode": {
    "name": "ipython",
    "version": 3
   },
   "file_extension": ".py",
   "mimetype": "text/x-python",
   "name": "python",
   "nbconvert_exporter": "python",
   "pygments_lexer": "ipython3",
   "version": "3.11.4"
  }
 },
 "nbformat": 4,
 "nbformat_minor": 5
}
