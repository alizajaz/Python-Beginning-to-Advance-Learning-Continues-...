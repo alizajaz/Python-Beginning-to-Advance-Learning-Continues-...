{
 "cells": [
  {
   "cell_type": "code",
   "execution_count": 2,
   "id": "0d6bf0db",
   "metadata": {},
   "outputs": [
    {
     "data": {
      "text/plain": [
       "5.5"
      ]
     },
     "execution_count": 2,
     "metadata": {},
     "output_type": "execute_result"
    }
   ],
   "source": [
    "#build in function\n",
    "abs(5.5)\n"
   ]
  },
  {
   "cell_type": "code",
   "execution_count": 3,
   "id": "f8170ed7",
   "metadata": {},
   "outputs": [
    {
     "data": {
      "text/plain": [
       "6"
      ]
     },
     "execution_count": 3,
     "metadata": {},
     "output_type": "execute_result"
    }
   ],
   "source": [
    "round(5.5)"
   ]
  },
  {
   "cell_type": "code",
   "execution_count": 4,
   "id": "086aee7f",
   "metadata": {},
   "outputs": [
    {
     "data": {
      "text/plain": [
       "5.5"
      ]
     },
     "execution_count": 4,
     "metadata": {},
     "output_type": "execute_result"
    }
   ],
   "source": [
    "round(5.49,1)"
   ]
  },
  {
   "cell_type": "code",
   "execution_count": 6,
   "id": "5db6c682",
   "metadata": {},
   "outputs": [
    {
     "name": "stdout",
     "output_type": "stream",
     "text": [
      "State.ACTIVE\n"
     ]
    }
   ],
   "source": [
    "#enum are readable name that are bound to constant value\n",
    "from enum import Enum\n",
    "class State(Enum):\n",
    "    INACTIVE=0\n",
    "    ACTIVE=1\n",
    "print(State.ACTIVE)"
   ]
  },
  {
   "cell_type": "code",
   "execution_count": 7,
   "id": "4e288b7a",
   "metadata": {},
   "outputs": [
    {
     "name": "stdout",
     "output_type": "stream",
     "text": [
      "1\n"
     ]
    }
   ],
   "source": [
    "from enum import Enum\n",
    "class State(Enum):\n",
    "    INACTIVE=0\n",
    "    ACTIVE=1\n",
    "print(State.ACTIVE.value)"
   ]
  },
  {
   "cell_type": "code",
   "execution_count": 8,
   "id": "5eff2cd8",
   "metadata": {},
   "outputs": [
    {
     "name": "stdout",
     "output_type": "stream",
     "text": [
      "State.ACTIVE\n"
     ]
    }
   ],
   "source": [
    "from enum import Enum\n",
    "class State(Enum):\n",
    "    INACTIVE=0\n",
    "    ACTIVE=1\n",
    "print(State(1))"
   ]
  },
  {
   "cell_type": "code",
   "execution_count": 10,
   "id": "57b96393",
   "metadata": {},
   "outputs": [
    {
     "name": "stdout",
     "output_type": "stream",
     "text": [
      "State.ACTIVE\n"
     ]
    }
   ],
   "source": [
    "from enum import Enum\n",
    "class State(Enum):\n",
    "    INACTIVE=0\n",
    "    ACTIVE=1\n",
    "print(State['ACTIVE'])"
   ]
  },
  {
   "cell_type": "code",
   "execution_count": 11,
   "id": "18698211",
   "metadata": {},
   "outputs": [
    {
     "name": "stdout",
     "output_type": "stream",
     "text": [
      "[<State.INACTIVE: 0>, <State.ACTIVE: 1>]\n"
     ]
    }
   ],
   "source": [
    "from enum import Enum\n",
    "class State(Enum):\n",
    "    INACTIVE=0\n",
    "    ACTIVE=1\n",
    "print(list(State))"
   ]
  },
  {
   "cell_type": "code",
   "execution_count": 12,
   "id": "45671d86",
   "metadata": {},
   "outputs": [
    {
     "name": "stdout",
     "output_type": "stream",
     "text": [
      "2\n"
     ]
    }
   ],
   "source": [
    "from enum import Enum\n",
    "class State(Enum):\n",
    "    INACTIVE=0\n",
    "    ACTIVE=1\n",
    "print(len(State))"
   ]
  },
  {
   "cell_type": "code",
   "execution_count": 15,
   "id": "406ed4ca",
   "metadata": {},
   "outputs": [
    {
     "name": "stdout",
     "output_type": "stream",
     "text": [
      "9\n",
      "your age is 9\n"
     ]
    }
   ],
   "source": [
    "age=input()\n",
    "print(\"your age is \"+ age)"
   ]
  },
  {
   "cell_type": "code",
   "execution_count": 16,
   "id": "854f7271",
   "metadata": {},
   "outputs": [
    {
     "name": "stdout",
     "output_type": "stream",
     "text": [
      "What is your age?100\n",
      "your age is 100\n"
     ]
    }
   ],
   "source": [
    "age=input(\"What is your age?\")\n",
    "print(\"your age is \"+ age)"
   ]
  },
  {
   "cell_type": "code",
   "execution_count": 18,
   "id": "edc4d1c3",
   "metadata": {},
   "outputs": [
    {
     "name": "stdout",
     "output_type": "stream",
     "text": [
      "The condition\n",
      "was true\n"
     ]
    }
   ],
   "source": [
    "#control statement\n",
    "\n",
    "\n",
    "condition=True\n",
    "if condition==True:\n",
    "    print(\"The condition\")\n",
    "    print(\"was true\")\n",
    "else:\n",
    "    print(\"The condition\")\n",
    "    print(\"was False\")\n",
    "    "
   ]
  },
  {
   "cell_type": "code",
   "execution_count": 20,
   "id": "40d9c6af",
   "metadata": {},
   "outputs": [
    {
     "name": "stdout",
     "output_type": "stream",
     "text": [
      "The condition\n",
      "was False\n"
     ]
    }
   ],
   "source": [
    "condition=False\n",
    "if condition==True:\n",
    "    print(\"The condition\")\n",
    "    print(\"was true\")\n",
    "else:\n",
    "    print(\"The condition\")\n",
    "    print(\"was False\")"
   ]
  },
  {
   "cell_type": "code",
   "execution_count": 45,
   "id": "0d1a2662",
   "metadata": {},
   "outputs": [
    {
     "name": "stdout",
     "output_type": "stream",
     "text": [
      "True\n",
      "False\n",
      "Roger\n",
      "5\n",
      "['Roger', 1, 'joe', True, 7, 'Judah', 'Judah', 5, 'Judah']\n",
      "5\n",
      "['joe', True]\n",
      "['Roger', 1, 'joe', True]\n",
      "[7, 'Judah', 'Judah', 5, 'Judah']\n",
      "9\n"
     ]
    }
   ],
   "source": [
    "#Lists can be defined as  empty string also\n",
    "dogs=['Roger',1,'Syd',True,'Quincy',7]\n",
    "print('Roger' in dogs)\n",
    "print('Rr' in dogs)\n",
    "print(dogs[0])\n",
    "dogs[2]='joe'\n",
    "dogs.append('Judah')\n",
    "dogs.extend(['Judah',5])\n",
    "dogs+=['Judah',5]\n",
    "dogs.remove('Quincy')\n",
    "print(dogs.pop())\n",
    "print(dogs)\n",
    "print (dogs[-2])\n",
    "print(dogs[2:4])\n",
    "print(dogs[:4])\n",
    "print(dogs[4:])\n",
    "print(len(dogs))\n",
    "#print(dogs)\n",
    "\n",
    "\n"
   ]
  },
  {
   "cell_type": "code",
   "execution_count": 47,
   "id": "513f4a2e",
   "metadata": {},
   "outputs": [
    {
     "name": "stdout",
     "output_type": "stream",
     "text": [
      "['Roger', 1, 'Test', 'Syd', True, 'Quincy', 7]\n"
     ]
    }
   ],
   "source": [
    "items=['Roger',1,'Syd',True,'Quincy',7]\n",
    "items.insert(2,'Test')\n",
    "print(items)"
   ]
  },
  {
   "cell_type": "code",
   "execution_count": 48,
   "id": "cb1bebee",
   "metadata": {},
   "outputs": [
    {
     "name": "stdout",
     "output_type": "stream",
     "text": [
      "['Roger', 'Test1', 'Test2', 1, 'Test', 'Syd', True, 'Quincy', 7]\n"
     ]
    }
   ],
   "source": [
    "#add multiple item to list\n",
    "items[1:1]=['Test1','Test2']\n",
    "print(items)"
   ]
  },
  {
   "cell_type": "code",
   "execution_count": 51,
   "id": "03b62034",
   "metadata": {},
   "outputs": [
    {
     "name": "stdout",
     "output_type": "stream",
     "text": [
      "['quincy', 'Roger', 'syd']\n"
     ]
    }
   ],
   "source": [
    "#sorting list\n",
    "items=['Roger','syd','quincy']\n",
    "items.sort(key=str.lower)\n",
    "print(items)\n"
   ]
  },
  {
   "cell_type": "code",
   "execution_count": 52,
   "id": "09e5a2a7",
   "metadata": {},
   "outputs": [
    {
     "name": "stdout",
     "output_type": "stream",
     "text": [
      "['quincy', 'Roger', 'syd']\n",
      "['Roger', 'syd', 'quincy']\n"
     ]
    }
   ],
   "source": [
    "items=['Roger','syd','quincy']\n",
    "itemscopy=items[:]\n",
    "items.sort(key=str.lower)\n",
    "print(items)\n",
    "print(itemscopy)"
   ]
  },
  {
   "cell_type": "code",
   "execution_count": 54,
   "id": "caffef56",
   "metadata": {},
   "outputs": [
    {
     "name": "stdout",
     "output_type": "stream",
     "text": [
      "['quincy', 'Roger', 'syd']\n",
      "['Roger', 'syd', 'quincy']\n"
     ]
    }
   ],
   "source": [
    "#sort list without modifying original list\n",
    "items=['Roger','syd','quincy']\n",
    "\n",
    "print(sorted(items,key=str.lower))\n",
    "print(items)\n"
   ]
  },
  {
   "cell_type": "code",
   "execution_count": 3,
   "id": "626398c6",
   "metadata": {},
   "outputs": [
    {
     "name": "stdout",
     "output_type": "stream",
     "text": [
      "True\n"
     ]
    }
   ],
   "source": [
    "#Tuples\n",
    "#created with parantesis \n",
    "names=('Roger','Syd')\n",
    "names[0]\n",
    "names.index('Roger')\n",
    "#len(names)\n",
    "print('Roger'in names)"
   ]
  },
  {
   "cell_type": "code",
   "execution_count": 4,
   "id": "b4c293c8",
   "metadata": {},
   "outputs": [
    {
     "data": {
      "text/plain": [
       "2"
      ]
     },
     "execution_count": 4,
     "metadata": {},
     "output_type": "execute_result"
    }
   ],
   "source": [
    "names=('Roger','Syd')\n",
    "names[0]\n",
    "names.index('Roger')\n",
    "len(names)\n"
   ]
  },
  {
   "cell_type": "code",
   "execution_count": 5,
   "id": "f2e564fd",
   "metadata": {},
   "outputs": [
    {
     "name": "stdout",
     "output_type": "stream",
     "text": [
      "True\n"
     ]
    },
    {
     "data": {
      "text/plain": [
       "('Roger', 'Syd')"
      ]
     },
     "execution_count": 5,
     "metadata": {},
     "output_type": "execute_result"
    }
   ],
   "source": [
    "#Tuples\n",
    "#created with parantesis \n",
    "names=('Roger','Syd')\n",
    "names[0]\n",
    "names.index('Roger')\n",
    "print('Roger'in names)\n",
    "names[0:2]"
   ]
  },
  {
   "cell_type": "code",
   "execution_count": 6,
   "id": "6d1e308d",
   "metadata": {},
   "outputs": [
    {
     "name": "stdout",
     "output_type": "stream",
     "text": [
      "True\n"
     ]
    },
    {
     "data": {
      "text/plain": [
       "['Roger', 'Syd']"
      ]
     },
     "execution_count": 6,
     "metadata": {},
     "output_type": "execute_result"
    }
   ],
   "source": [
    "#Tuples\n",
    "#created with parantesis \n",
    "names=('Roger','Syd')\n",
    "names[0]\n",
    "names.index('Roger')\n",
    "print('Roger'in names)\n",
    "sorted(names)#cannot modify tuples"
   ]
  },
  {
   "cell_type": "code",
   "execution_count": 7,
   "id": "2d77d434",
   "metadata": {},
   "outputs": [
    {
     "name": "stdout",
     "output_type": "stream",
     "text": [
      "True\n"
     ]
    }
   ],
   "source": [
    "#Tuples\n",
    "#created with parantesis \n",
    "names=('Roger','Syd')\n",
    "names[0]\n",
    "names.index('Roger')\n",
    "print('Roger'in names)\n",
    "sorted(names)#cannot modify tuples\n",
    "newTuple=names+('Tina','Quincy')"
   ]
  },
  {
   "cell_type": "code",
   "execution_count": 9,
   "id": "84623a8f",
   "metadata": {},
   "outputs": [
    {
     "name": "stdout",
     "output_type": "stream",
     "text": [
      "Syd\n"
     ]
    }
   ],
   "source": [
    "#dictionaries\n",
    "dog={'name':'Roger','age':8}\n",
    "dog['name']='Syd'\n",
    "print(dog['name'])\n",
    "\n"
   ]
  },
  {
   "cell_type": "code",
   "execution_count": 10,
   "id": "19a6ee23",
   "metadata": {},
   "outputs": [
    {
     "name": "stdout",
     "output_type": "stream",
     "text": [
      "Roger\n"
     ]
    }
   ],
   "source": [
    "#dictionaries\n",
    "dog={'name':'Roger','age':8}\n",
    "#dog['name']='Syd'\n",
    "print(dog['name'])\n"
   ]
  },
  {
   "cell_type": "code",
   "execution_count": 11,
   "id": "fff87d7a",
   "metadata": {},
   "outputs": [
    {
     "name": "stdout",
     "output_type": "stream",
     "text": [
      "brown\n"
     ]
    }
   ],
   "source": [
    "#dictionaries\n",
    "dog={'name':'Roger','age':8}\n",
    "print(dog.get('color','brown'))"
   ]
  },
  {
   "cell_type": "code",
   "execution_count": 13,
   "id": "cd730a34",
   "metadata": {},
   "outputs": [
    {
     "name": "stdout",
     "output_type": "stream",
     "text": [
      "green\n"
     ]
    }
   ],
   "source": [
    "#dictionaries\n",
    "dog={'name':'Roger','age':8,'color':'green'}\n",
    "print(dog.get('color','brown'))"
   ]
  },
  {
   "cell_type": "code",
   "execution_count": 14,
   "id": "132e461a",
   "metadata": {},
   "outputs": [
    {
     "name": "stdout",
     "output_type": "stream",
     "text": [
      "Roger\n",
      "{'age': 8, 'color': 'green'}\n"
     ]
    }
   ],
   "source": [
    "#dictionaries\n",
    "dog={'name':'Roger','age':8,'color':'green'}\n",
    "print(dog.pop('name'))\n",
    "print(dog)"
   ]
  },
  {
   "cell_type": "code",
   "execution_count": 15,
   "id": "51ffcc31",
   "metadata": {},
   "outputs": [
    {
     "name": "stdout",
     "output_type": "stream",
     "text": [
      "('color', 'green')\n",
      "{'name': 'Roger', 'age': 8}\n"
     ]
    }
   ],
   "source": [
    "#dictionaries\n",
    "dog={'name':'Roger','age':8,'color':'green'}\n",
    "print(dog.popitem())\n",
    "print(dog)"
   ]
  },
  {
   "cell_type": "code",
   "execution_count": 16,
   "id": "4e5193bc",
   "metadata": {},
   "outputs": [
    {
     "name": "stdout",
     "output_type": "stream",
     "text": [
      "True\n"
     ]
    }
   ],
   "source": [
    "#dictionaries\n",
    "dog={'name':'Roger','age':8,'color':'green'}\n",
    "\n",
    "print('color' in dog)"
   ]
  },
  {
   "cell_type": "code",
   "execution_count": 17,
   "id": "2c00810b",
   "metadata": {},
   "outputs": [
    {
     "name": "stdout",
     "output_type": "stream",
     "text": [
      "dict_keys(['name', 'age', 'color'])\n"
     ]
    }
   ],
   "source": [
    "#dictionaries\n",
    "dog={'name':'Roger','age':8,'color':'green'}\n",
    "\n",
    "print(dog.keys())"
   ]
  },
  {
   "cell_type": "code",
   "execution_count": 18,
   "id": "2f488b96",
   "metadata": {},
   "outputs": [
    {
     "name": "stdout",
     "output_type": "stream",
     "text": [
      "['name', 'age', 'color']\n"
     ]
    }
   ],
   "source": [
    "#dictionaries\n",
    "dog={'name':'Roger','age':8,'color':'green'}\n",
    "\n",
    "print(list(dog.keys()))"
   ]
  },
  {
   "cell_type": "code",
   "execution_count": 19,
   "id": "d8ff5ca1",
   "metadata": {},
   "outputs": [
    {
     "name": "stdout",
     "output_type": "stream",
     "text": [
      "['Roger', 8, 'green']\n"
     ]
    }
   ],
   "source": [
    "print(list(dog.values()))"
   ]
  },
  {
   "cell_type": "code",
   "execution_count": 20,
   "id": "1708658b",
   "metadata": {},
   "outputs": [
    {
     "name": "stdout",
     "output_type": "stream",
     "text": [
      "[('name', 'Roger'), ('age', 8), ('color', 'green')]\n"
     ]
    }
   ],
   "source": [
    "print(list(dog.items()))"
   ]
  },
  {
   "cell_type": "code",
   "execution_count": 21,
   "id": "92c36407",
   "metadata": {},
   "outputs": [
    {
     "name": "stdout",
     "output_type": "stream",
     "text": [
      "3\n"
     ]
    }
   ],
   "source": [
    "print(len(dog))"
   ]
  },
  {
   "cell_type": "code",
   "execution_count": 25,
   "id": "e352919e",
   "metadata": {},
   "outputs": [
    {
     "name": "stdout",
     "output_type": "stream",
     "text": [
      "{'name': 'Roger', 'age': 8, 'color': 'green', 'favorite food': 'Meat'}\n"
     ]
    }
   ],
   "source": [
    "dog['favorite food']='Meat'\n",
    "print(dog)"
   ]
  },
  {
   "cell_type": "code",
   "execution_count": 26,
   "id": "6cd6bf31",
   "metadata": {},
   "outputs": [],
   "source": [
    "del dog['color']"
   ]
  },
  {
   "cell_type": "code",
   "execution_count": 28,
   "id": "580f9cf7",
   "metadata": {},
   "outputs": [
    {
     "name": "stdout",
     "output_type": "stream",
     "text": [
      "{'name': 'Roger', 'age': 8, 'favorite food': 'Meat'}\n"
     ]
    }
   ],
   "source": [
    "dogCopy=dog.copy()\n",
    "print(dog)"
   ]
  },
  {
   "cell_type": "code",
   "execution_count": 30,
   "id": "78713a59",
   "metadata": {},
   "outputs": [
    {
     "name": "stdout",
     "output_type": "stream",
     "text": [
      "{'Roger'}\n"
     ]
    }
   ],
   "source": [
    "#Sets(not order)\n",
    "set1={'Roger','Syd'}\n",
    "set2={'Roger'}\n",
    "intersect=set1&set2\n",
    "print(intersect)"
   ]
  },
  {
   "cell_type": "code",
   "execution_count": 31,
   "id": "569b5cfe",
   "metadata": {},
   "outputs": [
    {
     "name": "stdout",
     "output_type": "stream",
     "text": [
      "{'Syd', 'Roger'}\n"
     ]
    }
   ],
   "source": [
    "#Sets(not order)\n",
    "set1={'Roger','Syd'}\n",
    "set2={'Roger'}\n",
    "intersect=set1|set2\n",
    "print(intersect)"
   ]
  },
  {
   "cell_type": "code",
   "execution_count": 32,
   "id": "b160f874",
   "metadata": {},
   "outputs": [
    {
     "name": "stdout",
     "output_type": "stream",
     "text": [
      "{'Syd', 'Luna', 'Roger'}\n"
     ]
    }
   ],
   "source": [
    "#Sets(not order)\n",
    "set1={'Roger','Syd'}\n",
    "set2={'Luna'}\n",
    "intersect=set1|set2\n",
    "print(intersect)"
   ]
  },
  {
   "cell_type": "code",
   "execution_count": 35,
   "id": "f99a37be",
   "metadata": {},
   "outputs": [
    {
     "name": "stdout",
     "output_type": "stream",
     "text": [
      "{'Syd'}\n"
     ]
    }
   ],
   "source": [
    "#Sets(not order)\n",
    "set1={'Roger','Syd'}\n",
    "set2={'Roger'}\n",
    "mod=set1-set2\n",
    "print(mod)"
   ]
  },
  {
   "cell_type": "code",
   "execution_count": 36,
   "id": "e8b3b36a",
   "metadata": {},
   "outputs": [
    {
     "name": "stdout",
     "output_type": "stream",
     "text": [
      "True\n"
     ]
    }
   ],
   "source": [
    "#Sets(not order)\n",
    "set1={'Roger','Syd'}\n",
    "set2={'Roger'}\n",
    "mod=set1>set2\n",
    "print(mod)"
   ]
  },
  {
   "cell_type": "code",
   "execution_count": 37,
   "id": "ca55270f",
   "metadata": {},
   "outputs": [
    {
     "name": "stdout",
     "output_type": "stream",
     "text": [
      "False\n"
     ]
    }
   ],
   "source": [
    "#Sets(not order)\n",
    "set1={'Roger','Syd'}\n",
    "set2={'Roger'}\n",
    "mod=set1<set2\n",
    "print(mod)"
   ]
  },
  {
   "cell_type": "code",
   "execution_count": 39,
   "id": "3903b572",
   "metadata": {},
   "outputs": [
    {
     "name": "stdout",
     "output_type": "stream",
     "text": [
      "['Syd', 'Roger']\n"
     ]
    }
   ],
   "source": [
    "#Sets(makesure one of each in that set)\n",
    "set1={'Roger','Syd','Roger'}\n",
    "set2={'Roger'}\n",
    "print(list(set1))"
   ]
  },
  {
   "cell_type": "code",
   "execution_count": 41,
   "id": "23042bfb",
   "metadata": {},
   "outputs": [
    {
     "name": "stdout",
     "output_type": "stream",
     "text": [
      "Hello!\n",
      "Hello!\n",
      "Hello!\n"
     ]
    }
   ],
   "source": [
    "#*************function******************\n",
    "def hello():\n",
    "    print('Hello!')\n",
    "hello()\n",
    "hello()\n",
    "hello()\n",
    "\n",
    "    "
   ]
  },
  {
   "cell_type": "code",
   "execution_count": 43,
   "id": "5900769a",
   "metadata": {},
   "outputs": [
    {
     "name": "stdout",
     "output_type": "stream",
     "text": [
      "Hello!Aliza\n",
      "Hello!jaz\n",
      "Hello!Eva\n"
     ]
    }
   ],
   "source": [
    "#function can accept one or more parameter\n",
    "def hello(name):\n",
    "    print('Hello!'+ name)\n",
    "hello('Aliza')\n",
    "hello('jaz')\n",
    "hello('Eva')\n"
   ]
  },
  {
   "cell_type": "code",
   "execution_count": 45,
   "id": "6da7b157",
   "metadata": {},
   "outputs": [
    {
     "name": "stdout",
     "output_type": "stream",
     "text": [
      "Hello!Aliza\n",
      "Hello!jaz\n",
      "Hello!my friend\n"
     ]
    }
   ],
   "source": [
    "#didn't specify arguement\n",
    "def hello(name='my friend'):\n",
    "    print('Hello!'+ name)\n",
    "    \n",
    "hello('Aliza')\n",
    "hello('jaz')\n",
    "hello()\n"
   ]
  },
  {
   "cell_type": "code",
   "execution_count": 50,
   "id": "f8749538",
   "metadata": {},
   "outputs": [
    {
     "name": "stdout",
     "output_type": "stream",
     "text": [
      "Hello!Ali,you are 21 years old!\n",
      "Hello!jaz,you are 8 years old!\n"
     ]
    }
   ],
   "source": [
    "def hello(name,age):\n",
    "    print('Hello!'+ name + ',you are ' +str(age) +' years old!')\n",
    "    \n",
    "hello('Ali',21)\n",
    "hello('jaz',8)\n",
    "\n"
   ]
  },
  {
   "cell_type": "code",
   "execution_count": 53,
   "id": "0fd81c25",
   "metadata": {},
   "outputs": [
    {
     "name": "stdout",
     "output_type": "stream",
     "text": [
      "{'name': 'Syd'}\n"
     ]
    }
   ],
   "source": [
    "def change(value):\n",
    "    value['name']='Syd'\n",
    "    \n",
    "val={'name':'Aliza'}\n",
    "change(val)\n",
    "print(val)"
   ]
  },
  {
   "cell_type": "code",
   "execution_count": 58,
   "id": "d13c5845",
   "metadata": {},
   "outputs": [
    {
     "name": "stdout",
     "output_type": "stream",
     "text": [
      "Hello!Aliza!\n"
     ]
    }
   ],
   "source": [
    "def hello(name):\n",
    "    if not name:\n",
    "        return \n",
    "    print('Hello!'+ name + '!')\n",
    "    \n",
    "hello('Aliza')"
   ]
  },
  {
   "cell_type": "code",
   "execution_count": 60,
   "id": "30fa1179",
   "metadata": {},
   "outputs": [
    {
     "name": "stdout",
     "output_type": "stream",
     "text": [
      "Hello!Syd!\n",
      "('Syd', 'Aliza', 8)\n"
     ]
    }
   ],
   "source": [
    "def hello(name):\n",
    "    print('Hello!'+ name + '!')\n",
    "    return name,'Aliza',8\n",
    "    \n",
    "print(hello('Syd'))"
   ]
  },
  {
   "cell_type": "code",
   "execution_count": 67,
   "id": "4f8f7661",
   "metadata": {},
   "outputs": [
    {
     "name": "stdout",
     "output_type": "stream",
     "text": [
      "8\n",
      "8\n"
     ]
    }
   ],
   "source": [
    "#variable scope \n",
    "age=8\n",
    "def test():\n",
    "    print(age)\n",
    "print(age)\n",
    "test()"
   ]
  },
  {
   "cell_type": "code",
   "execution_count": 68,
   "id": "0d282069",
   "metadata": {},
   "outputs": [
    {
     "name": "stdout",
     "output_type": "stream",
     "text": [
      "8\n",
      "8\n"
     ]
    }
   ],
   "source": [
    "#variable scope \n",
    "#if you declare variable inside the function\n",
    "def test():\n",
    "    age=8\n",
    "    print(age)\n",
    "    \n",
    "print(age)\n",
    "test()"
   ]
  },
  {
   "cell_type": "code",
   "execution_count": 72,
   "id": "d5c41f72",
   "metadata": {},
   "outputs": [
    {
     "name": "stdout",
     "output_type": "stream",
     "text": [
      "I\n",
      "am\n",
      "going\n",
      "to\n",
      "buy\n",
      "the\n",
      "milk\n"
     ]
    }
   ],
   "source": [
    "def talk(phrase):\n",
    "    def say(word):\n",
    "        print(word)\n",
    "        \n",
    "    words = phrase.split(' ')  # Use a space as the delimiter\n",
    "    for word in words:\n",
    "        say(word)\n",
    "        \n",
    "talk('I am going to buy the milk')\n"
   ]
  },
  {
   "cell_type": "code",
   "execution_count": 78,
   "id": "0bd1832e",
   "metadata": {},
   "outputs": [
    {
     "name": "stdout",
     "output_type": "stream",
     "text": [
      "1\n",
      "2\n",
      "3\n"
     ]
    }
   ],
   "source": [
    "def counter():\n",
    "    count = 0\n",
    "    \n",
    "    def increment():\n",
    "        nonlocal count\n",
    "        count=count+1\n",
    "        return count\n",
    "    \n",
    "    return increment\n",
    "\n",
    "increment = counter()\n",
    "\n",
    "print (increment())\n",
    "print (increment())\n",
    "print (increment())\n"
   ]
  },
  {
   "cell_type": "code",
   "execution_count": 82,
   "id": "1e4b4533",
   "metadata": {},
   "outputs": [
    {
     "name": "stdout",
     "output_type": "stream",
     "text": [
      "8\n",
      "0\n",
      "4\n"
     ]
    }
   ],
   "source": [
    "#objects\n",
    "#everthing in python is objects\n",
    "age = 8\n",
    "print(age.real)\n",
    "print(age.imag)\n",
    "print(age.bit_length())\n"
   ]
  },
  {
   "cell_type": "code",
   "execution_count": 84,
   "id": "9e1b402b",
   "metadata": {},
   "outputs": [
    {
     "name": "stdout",
     "output_type": "stream",
     "text": [
      "1665250195840\n"
     ]
    }
   ],
   "source": [
    "items=[1,2]\n",
    "items.append(3)\n",
    "items.pop()\n",
    "print(id(items))"
   ]
  },
  {
   "cell_type": "code",
   "execution_count": 85,
   "id": "7c64948a",
   "metadata": {},
   "outputs": [
    {
     "data": {
      "text/plain": [
       "3"
      ]
     },
     "execution_count": 85,
     "metadata": {},
     "output_type": "execute_result"
    }
   ],
   "source": [
    "items=[1,2]\n",
    "items.append(3)\n",
    "items.pop()"
   ]
  },
  {
   "cell_type": "code",
   "execution_count": 87,
   "id": "71d0c561",
   "metadata": {},
   "outputs": [
    {
     "name": "stdout",
     "output_type": "stream",
     "text": [
      "9\n"
     ]
    }
   ],
   "source": [
    "#int is immutable \n",
    "age=8\n",
    "age=age+1\n",
    "print(age)"
   ]
  },
  {
   "cell_type": "code",
   "execution_count": null,
   "id": "f60b9ea9",
   "metadata": {},
   "outputs": [],
   "source": [
    "#loops\n",
    "#while loops and for loops\n",
    "condition=True\n",
    "while condition==True:\n",
    "    print('The condition is True')"
   ]
  },
  {
   "cell_type": "code",
   "execution_count": null,
   "id": "1ce3a6d8",
   "metadata": {},
   "outputs": [],
   "source": [
    "condition=True\n",
    "while condition==True:\n",
    "    print('The condition is True')\n",
    "    condition=False"
   ]
  },
  {
   "cell_type": "code",
   "execution_count": 90,
   "id": "2bb40422",
   "metadata": {},
   "outputs": [
    {
     "name": "stdout",
     "output_type": "stream",
     "text": [
      "The condition is True\n",
      "The condition is True\n",
      "The condition is True\n",
      "The condition is True\n",
      "The condition is True\n",
      "The condition is True\n",
      "The condition is True\n",
      "The condition is True\n",
      "The condition is True\n",
      "The condition is True\n",
      "After the loop\n"
     ]
    }
   ],
   "source": [
    "count=0\n",
    "while count<10:\n",
    "    print('The condition is True')\n",
    "    count=count+1\n",
    "print('After the loop')"
   ]
  },
  {
   "cell_type": "code",
   "execution_count": 92,
   "id": "fedacea3",
   "metadata": {},
   "outputs": [
    {
     "name": "stdout",
     "output_type": "stream",
     "text": [
      "1\n",
      "2\n",
      "3\n",
      "4\n"
     ]
    }
   ],
   "source": [
    "items=[1,2,3,4]\n",
    "for item in items:\n",
    "    print(item)\n",
    " "
   ]
  },
  {
   "cell_type": "code",
   "execution_count": 94,
   "id": "558e3db2",
   "metadata": {},
   "outputs": [
    {
     "name": "stdout",
     "output_type": "stream",
     "text": [
      "0\n",
      "1\n",
      "2\n",
      "3\n",
      "4\n",
      "5\n",
      "6\n",
      "7\n",
      "8\n",
      "9\n",
      "10\n",
      "11\n",
      "12\n",
      "13\n",
      "14\n"
     ]
    }
   ],
   "source": [
    "#loops\n",
    "for item in range(15):\n",
    "    print(item)"
   ]
  },
  {
   "cell_type": "code",
   "execution_count": 97,
   "id": "13a76a57",
   "metadata": {},
   "outputs": [
    {
     "name": "stdout",
     "output_type": "stream",
     "text": [
      "0 1\n",
      "1 2\n",
      "2 3\n",
      "3 4\n"
     ]
    }
   ],
   "source": [
    "#index in list\n",
    "items=[1,2,3,4]\n",
    "for index,item  in enumerate(items):\n",
    "    print(index, item)"
   ]
  },
  {
   "cell_type": "code",
   "execution_count": 98,
   "id": "f3c8a5ea",
   "metadata": {},
   "outputs": [
    {
     "name": "stdout",
     "output_type": "stream",
     "text": [
      "0 aliz\n",
      "1 jaz\n",
      "2 eva\n",
      "3 jjj\n"
     ]
    }
   ],
   "source": [
    "#index in list\n",
    "items=['aliz','jaz','eva','jjj']\n",
    "for index,item  in enumerate(items):\n",
    "    print(index, item)"
   ]
  },
  {
   "cell_type": "code",
   "execution_count": 99,
   "id": "3f0f467e",
   "metadata": {},
   "outputs": [
    {
     "name": "stdout",
     "output_type": "stream",
     "text": [
      "1\n"
     ]
    }
   ],
   "source": [
    "#continue , break\n",
    "items=[1,2,3,4]\n",
    "for item in items:\n",
    "    if item ==2:\n",
    "        break\n",
    "    print(item)\n"
   ]
  },
  {
   "cell_type": "code",
   "execution_count": 103,
   "id": "a6b9a656",
   "metadata": {},
   "outputs": [
    {
     "name": "stdout",
     "output_type": "stream",
     "text": [
      "<class '__main__.Dog'>\n"
     ]
    }
   ],
   "source": [
    "#Classes\n",
    "class Dog:\n",
    "    def bark(self):\n",
    "        print('woof!')\n",
    "        \n",
    "roger=Dog()\n",
    "print(type (roger))\n"
   ]
  },
  {
   "cell_type": "code",
   "execution_count": 109,
   "id": "7c46bd11",
   "metadata": {},
   "outputs": [
    {
     "name": "stdout",
     "output_type": "stream",
     "text": [
      "Roger\n",
      "8\n",
      "woof!\n",
      "None\n"
     ]
    }
   ],
   "source": [
    "#create constructor\n",
    "#Classes\n",
    "class Dog:\n",
    "    def __init__(self,name,age):\n",
    "        self.name=name\n",
    "        self.age=age\n",
    "    def bark(self):  \n",
    "        print('woof!')\n",
    "        \n",
    "roger=Dog('Roger',8)\n",
    "print(roger.name)\n",
    "print(roger.age)\n",
    "print(roger.bark())\n",
    "\n"
   ]
  },
  {
   "cell_type": "code",
   "execution_count": 110,
   "id": "b25f9c79",
   "metadata": {},
   "outputs": [
    {
     "name": "stdout",
     "output_type": "stream",
     "text": [
      "Roger\n",
      "8\n",
      "woof!\n",
      "None\n"
     ]
    }
   ],
   "source": [
    "#inheritance\n",
    "#Classes\n",
    "class Animal:\n",
    "    def walk(self):\n",
    "        print(\"Walking....\")\n",
    "        \n",
    "class Dog:\n",
    "    def __init__(self,name,age):\n",
    "        self.name=name\n",
    "        self.age=age\n",
    "    def bark(self):  \n",
    "        print('woof!')\n",
    "        \n",
    "roger=Dog('Roger',8)\n",
    "print(roger.name)\n",
    "print(roger.age)\n",
    "print(roger.bark())\n"
   ]
  }
 ],
 "metadata": {
  "kernelspec": {
   "display_name": "Python 3 (ipykernel)",
   "language": "python",
   "name": "python3"
  },
  "language_info": {
   "codemirror_mode": {
    "name": "ipython",
    "version": 3
   },
   "file_extension": ".py",
   "mimetype": "text/x-python",
   "name": "python",
   "nbconvert_exporter": "python",
   "pygments_lexer": "ipython3",
   "version": "3.11.4"
  }
 },
 "nbformat": 4,
 "nbformat_minor": 5
}
