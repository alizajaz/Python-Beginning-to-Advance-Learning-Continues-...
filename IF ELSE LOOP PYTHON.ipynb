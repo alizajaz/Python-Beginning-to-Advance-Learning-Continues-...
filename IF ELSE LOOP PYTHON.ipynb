{
 "cells": [
  {
   "cell_type": "code",
   "execution_count": 1,
   "id": "929d28ef",
   "metadata": {},
   "outputs": [
    {
     "name": "stdout",
     "output_type": "stream",
     "text": [
      "enter the number:4\n",
      "The Given number is an even number\n"
     ]
    }
   ],
   "source": [
    "# Simple Python program to understand the if statement  \n",
    "num = int(input(\"enter the number:\"))         \n",
    "# Here, we are taking an integer num and taking input dynamically  \n",
    "if num%2 == 0:      \n",
    "# Here, we are checking the condition. If the condition is true, we will enter the block  \n",
    "    print(\"The Given number is an even number\")   "
   ]
  },
  {
   "cell_type": "code",
   "execution_count": 5,
   "id": "2a1798b7",
   "metadata": {},
   "outputs": [
    {
     "name": "stdout",
     "output_type": "stream",
     "text": [
      "enter the number:5\n"
     ]
    }
   ],
   "source": [
    "# Simple Python program to understand the if statement  \n",
    "num = int(input(\"enter the number:\"))         \n",
    "# Here, we are taking an integer num and taking input dynamically  \n",
    "if num%2 == 0:      \n",
    "# Here, we are checking the condition. If the condition is true, we will enter the block  \n",
    "    print(\"The Given number is an even number\")   \n",
    "    "
   ]
  },
  {
   "cell_type": "code",
   "execution_count": 8,
   "id": "1a00f679",
   "metadata": {},
   "outputs": [
    {
     "name": "stdout",
     "output_type": "stream",
     "text": [
      "Enter a: 12\n",
      "Enter b: 1\n",
      "Enter c: 2\n",
      "From the above three numbers given a is largest\n"
     ]
    }
   ],
   "source": [
    "# Simple Python Program to print the largest of the three numbers.  \n",
    "a = int (input(\"Enter a: \"));    \n",
    "b = int (input(\"Enter b: \"));    \n",
    "c = int (input(\"Enter c: \"));    \n",
    "if a>b and a>c:    \n",
    "# Here, we are checking the condition. If the condition is true, we will enter the block  \n",
    "    print (\"From the above three numbers given a is largest\");    \n",
    "if b>a and b>c:    \n",
    "# Here, we are checking the condition. If the condition is true, we will enter the block  \n",
    "    print (\"From the above three numbers given b is largest\");    \n",
    "if c>a and c>b:    \n",
    "# Here, we are checking the condition. If the condition is true, we will enter the block  \n",
    "    print (\"From the above three numbers given c is largest\");    \n",
    "    "
   ]
  },
  {
   "cell_type": "code",
   "execution_count": 11,
   "id": "57ab9ca3",
   "metadata": {},
   "outputs": [
    {
     "name": "stdout",
     "output_type": "stream",
     "text": [
      "Enter your age: 8\n",
      "Sorry! you have to wait !!\n"
     ]
    }
   ],
   "source": [
    "# Simple Python Program to check whether a person is eligible to vote or not.  \n",
    "age = int (input(\"Enter your age: \"))    \n",
    "# Here, we are taking an integer num and taking input dynamically  \n",
    "if age>=18:    \n",
    "# Here, we are checking the condition. If the condition is true, we will enter the block  \n",
    "    print(\"You are eligible to vote !!\");    \n",
    "else:    \n",
    "    print(\"Sorry! you have to wait !!\");  "
   ]
  },
  {
   "cell_type": "code",
   "execution_count": 12,
   "id": "9ef9c341",
   "metadata": {},
   "outputs": [
    {
     "name": "stdout",
     "output_type": "stream",
     "text": [
      "enter the number:10\n",
      "The Given number is an even number\n"
     ]
    }
   ],
   "source": [
    "# Simple Python Program to check whether a number is even or not.  \n",
    "num = int(input(\"enter the number:\"))         \n",
    "# Here, we are taking an integer num and taking input dynamically  \n",
    "if num%2 == 0:      \n",
    "# Here, we are checking the condition. If the condition is true, we will enter the block  \n",
    "    print(\"The Given number is an even number\")    \n",
    "else:    \n",
    "    print(\"The Given Number is an odd number\")    "
   ]
  },
  {
   "cell_type": "code",
   "execution_count": 13,
   "id": "15d73fd4",
   "metadata": {},
   "outputs": [
    {
     "name": "stdout",
     "output_type": "stream",
     "text": [
      "Enter the number?10\n",
      "The given number is equals to 10\n"
     ]
    }
   ],
   "source": [
    "# Simple Python program to understand elif statement  \n",
    "number = int(input(\"Enter the number?\"))    \n",
    "# Here, we are taking an integer number and taking input dynamically  \n",
    "if number==10:    \n",
    "# Here, we are checking the condition. If the condition is true, we will enter the block  \n",
    "    print(\"The given number is equals to 10\")    \n",
    "elif number==50:  \n",
    "# Here, we are checking the condition. If the condition is true, we will enter the block    \n",
    "    print(\"The given number is equal to 50\");    \n",
    "elif number==100:    \n",
    "# Here, we are checking the condition. If the condition is true, we will enter the block  \n",
    "    print(\"The given number is equal to 100\");    \n",
    "else:    \n",
    "    print(\"The given number is not equal to 10, 50 or 100\");    "
   ]
  },
  {
   "cell_type": "code",
   "execution_count": 14,
   "id": "d6f29563",
   "metadata": {},
   "outputs": [
    {
     "name": "stdout",
     "output_type": "stream",
     "text": [
      "Enter the marks? 87\n",
      "Congrats ! you scored grade A ...\n"
     ]
    }
   ],
   "source": [
    "# Simple Python program to understand elif statement  \n",
    "marks = int(input(\"Enter the marks? \"))    \n",
    "# Here, we are taking an integer marks and taking input dynamically  \n",
    "if marks > 85 and marks <= 100:  \n",
    "# Here, we are checking the condition. If the condition is true, we will enter the block    \n",
    "   print(\"Congrats ! you scored grade A ...\")    \n",
    "elif marks > 60 and marks <= 85:    \n",
    "# Here, we are checking the condition. If the condition is true, we will enter the block  \n",
    "   print(\"You scored grade B + ...\")    \n",
    "elif marks > 40 and marks <= 60:  \n",
    "# Here, we are checking the condition. If the condition is true, we will enter the block    \n",
    "   print(\"You scored grade B ...\")    \n",
    "elif (marks > 30 and marks <= 40):    \n",
    "# Here, we are checking the condition. If the condition is true, we will enter the block  \n",
    "   print(\"You scored grade C ...\")    \n",
    "else:    \n",
    "   print(\"Sorry you are fail ?\")    "
   ]
  },
  {
   "cell_type": "code",
   "execution_count": 15,
   "id": "61133ae6",
   "metadata": {},
   "outputs": [
    {
     "name": "stdout",
     "output_type": "stream",
     "text": [
      "The list of squares is [16, 4, 36, 49, 9, 25, 64, 100, 36, 1, 81, 4]\n"
     ]
    }
   ],
   "source": [
    "#*********************************************LOOP******************************************************\n",
    "# Python program to show how the for loop works  \n",
    "  \n",
    "# Creating a sequence which is a tuple of numbers  \n",
    "numbers = [4, 2, 6, 7, 3, 5, 8, 10, 6, 1, 9, 2]  \n",
    "  \n",
    "# variable to store the square of the number  \n",
    "square = 0  \n",
    "  \n",
    "# Creating an empty list  \n",
    "squares = []  \n",
    "  \n",
    "# Creating a for loop  \n",
    "for value in numbers:  \n",
    "    square = value ** 2  \n",
    "    squares.append(square)  \n",
    "print(\"The list of squares is\", squares)  "
   ]
  },
  {
   "cell_type": "code",
   "execution_count": 20,
   "id": "1bcd5655",
   "metadata": {},
   "outputs": [
    {
     "name": "stdout",
     "output_type": "stream",
     "text": [
      "P\n",
      "y\n",
      "t\n",
      "h\n",
      "If block\n",
      "n\n",
      " \n",
      "L\n",
      "If block\n",
      "If block\n",
      "p\n"
     ]
    }
   ],
   "source": [
    " #Python program to show how if-else statements work  \n",
    "  \n",
    "string = \"Python Loop\"  \n",
    "  \n",
    "# Initiating a loop  \n",
    "for s in string:  \n",
    "    # giving a condition in if block  \n",
    "    if s == \"o\":  \n",
    "        print(\"If block\")  \n",
    "    # if condition is not satisfied then else block will be executed  \n",
    "    else:  \n",
    "        print(s)  \n",
    "        "
   ]
  },
  {
   "cell_type": "code",
   "execution_count": 21,
   "id": "115b9928",
   "metadata": {},
   "outputs": [
    {
     "name": "stdout",
     "output_type": "stream",
     "text": [
      "3\n",
      "9\n",
      "3\n",
      "9\n",
      "7\n",
      "These are the odd numbers present in the tuple\n"
     ]
    }
   ],
   "source": [
    "# Python program to show how to use else statement with for loop  \n",
    "  \n",
    "# Creating a sequence  \n",
    "tuple_ = (3, 4, 6, 8, 9, 2, 3, 8, 9, 7)  \n",
    "  \n",
    "# Initiating the loop  \n",
    "for value in tuple_:  \n",
    "#Inside the loop, it checks if the current value is not divisible by 2 (i.e., it's an odd number) using the condition \n",
    "    if value % 2 != 0:  \n",
    "        print(value)  \n",
    "# giving an else statement  \n",
    "else:  \n",
    "    print(\"These are the odd numbers present in the tuple\")  "
   ]
  },
  {
   "cell_type": "code",
   "execution_count": 22,
   "id": "69ba262c",
   "metadata": {},
   "outputs": [
    {
     "name": "stdout",
     "output_type": "stream",
     "text": [
      "range(0, 15)\n",
      "[0, 1, 2, 3, 4, 5, 6, 7, 8, 9, 10, 11, 12, 13, 14]\n",
      "[4, 5, 6, 7, 8]\n",
      "[5, 9, 13, 17, 21]\n"
     ]
    }
   ],
   "source": [
    "# Python program to show the working of range() function  \n",
    "  \n",
    "print(range(15))  \n",
    "  \n",
    "print(list(range(15)))  \n",
    "  \n",
    "print(list(range(4, 9)))  \n",
    "  \n",
    "print(list(range(5, 25, 4)))  "
   ]
  },
  {
   "cell_type": "code",
   "execution_count": 23,
   "id": "20454120",
   "metadata": {},
   "outputs": [
    {
     "name": "stdout",
     "output_type": "stream",
     "text": [
      "Python Loops\n",
      "Python Loops\n",
      "Python Loops\n",
      "Python Loops\n"
     ]
    }
   ],
   "source": [
    "# Python program to show how to use a while loop  \n",
    "counter = 0  \n",
    "# Initiating the loop  \n",
    "while counter < 10: # giving the condition  \n",
    "   # This means that in each iteration, the value of counter will increase by 3.\n",
    "    counter = counter + 3  #the loop will run three times because counter starts at 0, and it's increased by 3 in each iteration.\n",
    "\n",
    "    print(\"Python Loops\")  \n",
    "    \n"
   ]
  },
  {
   "cell_type": "code",
   "execution_count": 24,
   "id": "bd71dc1e",
   "metadata": {},
   "outputs": [
    {
     "name": "stdout",
     "output_type": "stream",
     "text": [
      "Python Loops\n",
      "Python Loops\n",
      "Python Loops\n",
      "Python Loops\n",
      "Code block inside the else statement\n"
     ]
    }
   ],
   "source": [
    "#Python program to show how to use else statement with the while loop  \n",
    "counter = 0  \n",
    "  \n",
    "# Iterating through the while loop  \n",
    "while (counter < 10):      \n",
    "    counter = counter + 3  \n",
    "    print(\"Python Loops\") # Executed untile condition is met  \n",
    "# Once the condition of while loop gives False this statement will be executed  \n",
    "else:  \n",
    "    print(\"Code block inside the else statement\")  "
   ]
  },
  {
   "cell_type": "code",
   "execution_count": 25,
   "id": "ae939986",
   "metadata": {},
   "outputs": [
    {
     "name": "stdout",
     "output_type": "stream",
     "text": [
      "Current Letter: P\n",
      "Current Letter: y\n",
      "Current Letter: h\n",
      "Current Letter: n\n",
      "Current Letter:  \n",
      "Current Letter: L\n",
      "Current Letter: s\n"
     ]
    }
   ],
   "source": [
    "# Python program to show how the continue statement works  \n",
    "  \n",
    "# Initiating the loop  \n",
    "for string in \"Python Loops\":  \n",
    "    if string == \"o\" or string == \"p\" or string == \"t\":  \n",
    "         continue  \n",
    "    print('Current Letter:', string)  \n",
    " #when the character is \"o,\" \"p,\" or \"t,\" the loop skips that character and continues with the next one. For all other characters, it prints \"Current Letter:\" followed by the character."
   ]
  },
  {
   "cell_type": "code",
   "execution_count": 26,
   "id": "a362427d",
   "metadata": {},
   "outputs": [
    {
     "name": "stdout",
     "output_type": "stream",
     "text": [
      "Current Letter:  P\n",
      "Current Letter:  y\n",
      "Current Letter:  t\n",
      "Current Letter:  h\n",
      "Current Letter:  o\n",
      "Current Letter:  n\n",
      "Current Letter:   \n"
     ]
    }
   ],
   "source": [
    "# Python program to show how the break statement works  \n",
    "  \n",
    "# Initiating the loop  \n",
    "for string in \"Python Loops\":  \n",
    "    if string == 'L':  \n",
    "         break  \n",
    "    print('Current Letter: ', string)  "
   ]
  },
  {
   "cell_type": "code",
   "execution_count": 30,
   "id": "c5dd76b1",
   "metadata": {},
   "outputs": [
    {
     "name": "stdout",
     "output_type": "stream",
     "text": [
      "Last Letter: s\n"
     ]
    }
   ],
   "source": [
    "# Python program to show how the pass statement works  \n",
    "for string in \"Python Loops\":  \n",
    "    pass  \n",
    "print( 'Last Letter:', string)   "
   ]
  },
  {
   "cell_type": "code",
   "execution_count": 38,
   "id": "f41e2d8f",
   "metadata": {},
   "outputs": [
    {
     "name": "stdout",
     "output_type": "stream",
     "text": [
      "The sum of squares is:  774\n"
     ]
    }
   ],
   "source": [
    "# *****************************************************FOR LOOP*****************************************************\n",
    "# Code to find the sum of squares of each element of the list using for loop  \n",
    "  \n",
    "# creating the list of numbers  \n",
    "numbers = [3, 5, 23, 6, 5, 1, 2, 9, 8]  \n",
    "  \n",
    "# initializing a variable that will store the sum  \n",
    "sum = 0  \n",
    "  \n",
    "# using for loop to iterate over the list  \n",
    "for num in numbers:  \n",
    "     \n",
    "    sum = sum + num ** 2   # num ** 2, calculates the square of the current number.\n",
    "    #sum + num ** 2 adds the square of the current number to the running sum stored in the sum variable.pa\n",
    "  \n",
    "print(\"The sum of squares is: \", sum)\n",
    "\n",
    "# calculate the sum of the squares of the numbers in the numbers list."
   ]
  },
  {
   "cell_type": "code",
   "execution_count": 39,
   "id": "dc085968",
   "metadata": {},
   "outputs": [
    {
     "name": "stdout",
     "output_type": "stream",
     "text": [
      "[3, 5, 6, 8, 4, 5, 7, 8, 10, 6]\n"
     ]
    }
   ],
   "source": [
    "my_list = [3, 5, 6, 8, 4]  \n",
    "for iter_var in range( len( my_list ) ):  \n",
    "    my_list.append(my_list[iter_var] + 2)  \n",
    "print( my_list )  "
   ]
  },
  {
   "cell_type": "code",
   "execution_count": 52,
   "id": "b32a67a3",
   "metadata": {},
   "outputs": [
    {
     "name": "stdout",
     "output_type": "stream",
     "text": [
      "The sum of squares is:  774\n"
     ]
    }
   ],
   "source": [
    "# Code to find the sum of squares of each element of the list using for loop  \n",
    "  \n",
    "# creating the list of numbers  \n",
    "numbers = [3, 5, 23, 6, 5, 1, 2, 9, 8]  \n",
    "  \n",
    "# initializing a variable that will store the sum  \n",
    "sum = 0  \n",
    "  \n",
    "# using for loop to iterate over list  \n",
    "for num in range( len(numbers) ):  \n",
    "     \n",
    "    sum = sum + numbers[num] ** 2   \n",
    "  \n",
    "print(\"The sum of squares is: \", sum)  "
   ]
  },
  {
   "cell_type": "code",
   "execution_count": 59,
   "id": "036d334e",
   "metadata": {},
   "outputs": [
    {
     "name": "stdout",
     "output_type": "stream",
     "text": [
      "Marks of Itika are: 90\n",
      "There is no student of name Parker in the records\n"
     ]
    }
   ],
   "source": [
    "\n",
    "#The code you've provided is meant to retrieve and print the marks of two students, 'Itika' and 'Parker', from a dictionary of student records. However, there are some issues with the code. I'll provide a corrected version and then explain it:\n",
    "# Student names\n",
    "student_name_1 = 'Itika'\n",
    "student_name_2 = 'Parker'\n",
    "\n",
    "# Creating a dictionary of student records\n",
    "records = {'Itika': 90, 'Arshia': 92, 'Peter': 46}\n",
    "\n",
    "# Define a function to retrieve marks\n",
    "def marks(student_name):\n",
    "    if student_name in records:\n",
    "        return f\"Marks of {student_name} are: {records[student_name]}\"\n",
    "    else:\n",
    "        return f\"There is no student of name {student_name} in the records\"\n",
    "#it checks if the provided student name exists in the records dictionary. If it does, it returns a string with the student's name and marks. If the name is not found, it returns a message indicating that there's no student with that name in the records.\n",
    "\n",
    "# Using the function to get and print the marks\n",
    "print(marks(student_name_1))\n",
    "print(marks(student_name_2))"
   ]
  },
  {
   "cell_type": "code",
   "execution_count": 60,
   "id": "7e2ea8b8",
   "metadata": {},
   "outputs": [
    {
     "name": "stdout",
     "output_type": "stream",
     "text": [
      "0 4 6 7 7 8 8 8 9 10 "
     ]
    }
   ],
   "source": [
    "import random  \n",
    "numbers = [ ]  # This line initializes an empty list called numbers.\n",
    "for val in range(0, 11):  #The first for loop: for val in range(0, 11) iterates through the values from 0 to 10 (inclusive). In each iteration, it appends a random integer between 0 and 11 (inclusive) to the numbers list using random.randint(0, 11).\n",
    "    numbers.append( random.randint( 0, 11 ) )  \n",
    "for num in range( 0, 11 ):  #The second for loop: for num in range(0, 11) iterates through the values from 0 to 10 (inclusive). This loop is used to compare each value in this range with the numbers in the numbers list.\n",
    "    for i in numbers:  #This inner loop iterates through the elements of the numbers list.\n",
    "        if num == i:  #condition checks if the current value num from the outer loop matches the value i from the inner loop.\n",
    "            print( num, end = \" \" )  #If there is a match, i.e., if num is equal to i, it prints num followed by a space without moving to a new line (due to end = \" \").\n",
    "            \n",
    "            #After iterating through the numbers list, the outer loop continues, checking the next value in the r##ange.\n",
    "\n",
    "#The result is that it prints all the numbers from 0 to 10 that match the random numbers generated and stored in the numbers list."
   ]
  },
  {
   "cell_type": "code",
   "execution_count": 62,
   "id": "9f0e5019",
   "metadata": {},
   "outputs": [
    {
     "name": "stdout",
     "output_type": "stream",
     "text": [
      "1 2 3 4 5 6 7 8 9 10 "
     ]
    }
   ],
   "source": [
    "#****************************************************Python While Loops****************************************************\n",
    "#while loops in Python for printing numbers from 1 to 10.\n",
    "i=1  \n",
    "while i<=10:  \n",
    "    print(i, end=' ')  \n",
    "    i+=1  \n"
   ]
  },
  {
   "cell_type": "code",
   "execution_count": 63,
   "id": "029ce509",
   "metadata": {},
   "outputs": [
    {
     "name": "stdout",
     "output_type": "stream",
     "text": [
      "5 7 10 14 15 20 21 25 28 30 35 40 42 45 49 50 "
     ]
    }
   ],
   "source": [
    "#while loops in Python for Printing those numbers divisible by either 5 or 7 within 1 to 50\n",
    "i=1  \n",
    "while i<51:  \n",
    "    if i%5 == 0 or i%7==0 :  \n",
    "        print(i, end=' ')  \n",
    "    i+=1  "
   ]
  },
  {
   "cell_type": "code",
   "execution_count": 64,
   "id": "845024c6",
   "metadata": {},
   "outputs": [
    {
     "name": "stdout",
     "output_type": "stream",
     "text": [
      "The sum of squares is 1240\n"
     ]
    }
   ],
   "source": [
    "# Python program example to show the use of while loop   \n",
    "  \n",
    "num = 15  \n",
    "  \n",
    "# initializing summation and a counter for iteration  \n",
    "summation = 0  \n",
    "c = 1  \n",
    "  \n",
    "while c <= num: # specifying the condition of the loop  \n",
    "    # begining the code block  \n",
    "    summation = c**2 + summation  \n",
    "    c = c + 1    # incrementing the counter  \n",
    "  \n",
    "# print the final sum  \n",
    "print(\"The sum of squares is\", summation)  "
   ]
  },
  {
   "cell_type": "code",
   "execution_count": 66,
   "id": "0c847045",
   "metadata": {},
   "outputs": [
    {
     "name": "stdout",
     "output_type": "stream",
     "text": [
      "34 is not a PRIME number\n",
      "12 is not a PRIME number\n",
      "54 is not a PRIME number\n",
      "23 is a PRIME number\n",
      "75 is not a PRIME number\n",
      "34 is not a PRIME number\n",
      "11 is a PRIME number\n"
     ]
    }
   ],
   "source": [
    "num = [34, 12, 54, 23, 75, 34, 11]    \n",
    "  \n",
    "def prime_number(number):  \n",
    "    condition = 0  \n",
    "    iteration = 2  \n",
    "    while iteration <= number / 2:  \n",
    "        if number % iteration == 0:  \n",
    "            condition = 1  \n",
    "            break  \n",
    "        iteration = iteration + 1  \n",
    "  \n",
    "    if condition == 0:  \n",
    "        print(f\"{number} is a PRIME number\")  \n",
    "    else:  \n",
    "        print(f\"{number} is not a PRIME number\")  \n",
    "for i in num:  \n",
    "    prime_number(i)  "
   ]
  },
  {
   "cell_type": "code",
   "execution_count": 67,
   "id": "a4567713",
   "metadata": {},
   "outputs": [
    {
     "name": "stdout",
     "output_type": "stream",
     "text": [
      "2\n",
      "It is an Armstrong number\n"
     ]
    }
   ],
   "source": [
    "#Python for a number is Armstrong number or not.\n",
    "n = int(input())  \n",
    "n1=str(n)  \n",
    "l=len(n1)  \n",
    "temp=n  \n",
    "s=0  \n",
    "while n!=0:  \n",
    "    r=n%10  \n",
    "    s=s+(r**1)  \n",
    "    n=n//10  \n",
    "if s==temp:  \n",
    "    print(\"It is an Armstrong number\")  \n",
    "else:  \n",
    "    print(\"It is not an Armstrong number \")  "
   ]
  },
  {
   "cell_type": "code",
   "execution_count": 68,
   "id": "7081f39e",
   "metadata": {},
   "outputs": [
    {
     "name": "stdout",
     "output_type": "stream",
     "text": [
      "The Multiplication Table of:  21\n",
      "21 x 1 = 21\n",
      "21 x 2 = 42\n",
      "21 x 3 = 63\n",
      "21 x 4 = 84\n",
      "21 x 5 = 105\n",
      "21 x 6 = 126\n",
      "21 x 7 = 147\n",
      "21 x 8 = 168\n",
      "21 x 9 = 189\n",
      "21 x 10 = 210\n"
     ]
    }
   ],
   "source": [
    "#use the while loop for printing the multiplication table of a given number\n",
    "num = 21        \n",
    "counter = 1      \n",
    "# we will use a while loop for iterating 10 times for the multiplication table        \n",
    "print(\"The Multiplication Table of: \", num)      \n",
    "while counter <= 10: # specifying the condition  \n",
    "    ans = num * counter      \n",
    "    print (num, 'x', counter, '=', ans)      \n",
    "    counter += 1 # expression to increment the counter  "
   ]
  },
  {
   "cell_type": "code",
   "execution_count": 69,
   "id": "13d06269",
   "metadata": {},
   "outputs": [
    {
     "name": "stdout",
     "output_type": "stream",
     "text": [
      "[36, 16, 1, 25, 9]\n"
     ]
    }
   ],
   "source": [
    "# Python program to square every number of a list    \n",
    "# initializing a list    \n",
    "list_ = [3, 5, 1, 4, 6]    \n",
    "squares = []    \n",
    "# programing a while loop     \n",
    "while list_: # until list is not empty this expression will give boolean True after that False    \n",
    "    squares.append( (list_.pop())**2)    \n",
    "#  Print the squares of all numbers.  \n",
    "print( squares )    "
   ]
  },
  {
   "cell_type": "code",
   "execution_count": 70,
   "id": "a0178d03",
   "metadata": {},
   "outputs": [
    {
     "name": "stdout",
     "output_type": "stream",
     "text": [
      "It is an odd number\n",
      "It is an even number\n",
      "It is an even number\n",
      "It is an even number\n",
      "It is an even number\n",
      "It is an odd number\n",
      "It is an odd number\n",
      "It is an even number\n"
     ]
    }
   ],
   "source": [
    "#while loops in Python for determine odd and even number from every number of a list.\n",
    "list_ = [3, 4, 8, 10, 34, 45, 67,80]        # Initialize the list  \n",
    "index = 0  \n",
    "while index < len(list_):  \n",
    "    element = list_[index]  \n",
    "    if element % 2 == 0:  \n",
    "        print('It is an even number')       # Print if the number is even.  \n",
    "    else:  \n",
    "        print('It is an odd number')        # Print if the number is odd.  \n",
    "    index += 1  "
   ]
  },
  {
   "cell_type": "code",
   "execution_count": 73,
   "id": "cd8649ab",
   "metadata": {},
   "outputs": [
    {
     "name": "stdout",
     "output_type": "stream",
     "text": [
      "5\n",
      "4\n",
      "3\n",
      "2\n"
     ]
    }
   ],
   "source": [
    "#while loops in Python for determine the number letters of every word from the given list\n",
    "List_= ['Priya', 'Neha', 'Cow', 'To']  \n",
    "index = 0  \n",
    "while index < len(List_):  \n",
    "    element = List_[index]  \n",
    "    print(len(element))  \n",
    "    index += 1  "
   ]
  },
  {
   "cell_type": "code",
   "execution_count": 74,
   "id": "a7c9806b",
   "metadata": {},
   "outputs": [
    {
     "name": "stdout",
     "output_type": "stream",
     "text": [
      "(15, -9)\n",
      "(13, -6)\n",
      "(11, -3)\n"
     ]
    }
   ],
   "source": [
    "#while loops in Python for multiple conditio\n",
    "num1 = 17  \n",
    "num2 = -12  \n",
    "   \n",
    "while num1 > 5 and num2 < -5 : # multiple conditions in a single while loop  \n",
    "    num1 -= 2  \n",
    "    num2 += 3  \n",
    "    print( (num1, num2) )  "
   ]
  },
  {
   "cell_type": "code",
   "execution_count": 75,
   "id": "533f8f65",
   "metadata": {},
   "outputs": [
    {
     "name": "stdout",
     "output_type": "stream",
     "text": [
      "(15, -9)\n",
      "(13, -6)\n",
      "(11, -3)\n",
      "(9, 0)\n",
      "(7, 3)\n",
      "(5, 6)\n"
     ]
    }
   ],
   "source": [
    "#multiple conditions with an OR operator.\n",
    "num1 = 17  \n",
    "num2 = -12  \n",
    "   \n",
    "while num1 > 5 or num2 < -5 :  \n",
    "    num1 -= 2  \n",
    "    num2 += 3  \n",
    "    print( (num1, num2) )  "
   ]
  },
  {
   "cell_type": "code",
   "execution_count": 79,
   "id": "59203752",
   "metadata": {},
   "outputs": [
    {
     "name": "stdout",
     "output_type": "stream",
     "text": [
      "Number of iterations: 0\n",
      "Number of iterations: 1\n",
      "Number of iterations: 2\n",
      "Number of iterations: 3\n"
     ]
    }
   ],
   "source": [
    "#Python program  multiple logical expressions in the while loop \n",
    "num1 = 9   \n",
    "num = 14   \n",
    "maximum_value = 4  \n",
    "counter = 0   \n",
    "while (counter < num1 or counter < num2) and not counter >= maximum_value: # grouping multiple conditions  \n",
    "    print(f\"Number of iterations: {counter}\")   \n",
    "    counter += 1  "
   ]
  },
  {
   "cell_type": "code",
   "execution_count": 80,
   "id": "e273ad0c",
   "metadata": {},
   "outputs": [
    {
     "name": "stdout",
     "output_type": "stream",
     "text": [
      "Current Letter: W\n",
      "Current Letter: h\n",
      "Current Letter: l\n",
      "Current Letter:  \n",
      "Current Letter: L\n",
      "Current Letter: p\n",
      "Current Letter: s\n"
     ]
    }
   ],
   "source": [
    "# Python program to show how to use continue loop control  \n",
    "  \n",
    "# Initiating the loop  \n",
    "for string in \"While Loops\":  \n",
    "    if string == \"o\" or string == \"i\" or string == \"e\":  \n",
    "         continue  \n",
    "    print('Current Letter:', string)  "
   ]
  },
  {
   "cell_type": "code",
   "execution_count": 81,
   "id": "108ce5e9",
   "metadata": {},
   "outputs": [
    {
     "name": "stdout",
     "output_type": "stream",
     "text": [
      "Current Letter:  P\n",
      "Current Letter:  y\n",
      "Current Letter:  t\n",
      "Current Letter:  h\n",
      "Current Letter:  o\n"
     ]
    }
   ],
   "source": [
    "# Python program to show how to use the break statement  \n",
    "  \n",
    "# Initiating the loop  \n",
    "for string in \"Python Loops\":  \n",
    "    if string == 'n':  \n",
    "         break  \n",
    "    print('Current Letter: ', string)  "
   ]
  },
  {
   "cell_type": "code",
   "execution_count": 83,
   "id": "bd2b7ebd",
   "metadata": {},
   "outputs": [
    {
     "name": "stdout",
     "output_type": "stream",
     "text": [
      "The Last Letter of given string is: s\n"
     ]
    }
   ],
   "source": [
    "# Python program to show how to use the pass statement    \n",
    "for string in \"Python Loops\":    \n",
    "    pass    \n",
    "print( 'The Last Letter of given string is:', string)     "
   ]
  },
  {
   "cell_type": "code",
   "execution_count": null,
   "id": "edcef100",
   "metadata": {},
   "outputs": [],
   "source": []
  }
 ],
 "metadata": {
  "kernelspec": {
   "display_name": "Python 3 (ipykernel)",
   "language": "python",
   "name": "python3"
  },
  "language_info": {
   "codemirror_mode": {
    "name": "ipython",
    "version": 3
   },
   "file_extension": ".py",
   "mimetype": "text/x-python",
   "name": "python",
   "nbconvert_exporter": "python",
   "pygments_lexer": "ipython3",
   "version": "3.11.4"
  }
 },
 "nbformat": 4,
 "nbformat_minor": 5
}
