{
 "cells": [
  {
   "cell_type": "code",
   "execution_count": null,
   "id": "3dcc0b03",
   "metadata": {},
   "outputs": [
    {
     "name": "stdout",
     "output_type": "stream",
     "text": [
      "Enter the word to be checked:-hellooo\n",
      "original text: hellooo\n",
      "corrected text: hello\n",
      "Try Again? 1:0 1\n",
      "Enter the word to be checked:-yessss\n",
      "original text: yessss\n",
      "corrected text: messrs\n",
      "Try Again? 1:0 1\n",
      "Enter the word to be checked:-roseee\n",
      "original text: roseee\n",
      "corrected text: rose\n"
     ]
    }
   ],
   "source": [
    "from textblob import TextBlob\n",
    "\n",
    "t = 1\n",
    "while t:\n",
    "    a = input(\"Enter the word to be checked:-\")  # Corrected the input sentence\n",
    "    print(\"original text: \" + str(a))\n",
    "    \n",
    "    # Correcting text using TextBlob\n",
    "    b = TextBlob(a)\n",
    "   \n",
    " \n",
    "    print(\"corrected text: \" + str(b.correct()))  # Print the corrected spelling\n",
    "    \n",
    "    t = int(input(\"Try Again? 1:0 \"))"
   ]
  },
  {
   "cell_type": "code",
   "execution_count": null,
   "id": "04cfd9b0",
   "metadata": {},
   "outputs": [],
   "source": [
    "\n"
   ]
  },
  {
   "cell_type": "code",
   "execution_count": null,
   "id": "0d0842be",
   "metadata": {},
   "outputs": [],
   "source": []
  },
  {
   "cell_type": "code",
   "execution_count": null,
   "id": "3fe622f1",
   "metadata": {},
   "outputs": [],
   "source": []
  }
 ],
 "metadata": {
  "kernelspec": {
   "display_name": "Python 3 (ipykernel)",
   "language": "python",
   "name": "python3"
  },
  "language_info": {
   "codemirror_mode": {
    "name": "ipython",
    "version": 3
   },
   "file_extension": ".py",
   "mimetype": "text/x-python",
   "name": "python",
   "nbconvert_exporter": "python",
   "pygments_lexer": "ipython3",
   "version": "3.11.4"
  }
 },
 "nbformat": 4,
 "nbformat_minor": 5
}
