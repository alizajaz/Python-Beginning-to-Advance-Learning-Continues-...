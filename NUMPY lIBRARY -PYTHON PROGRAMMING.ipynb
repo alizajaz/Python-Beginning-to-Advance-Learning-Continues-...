{
 "cells": [
  {
   "cell_type": "code",
   "execution_count": 4,
   "id": "df5994f5",
   "metadata": {},
   "outputs": [
    {
     "name": "stdout",
     "output_type": "stream",
     "text": [
      "int32\n"
     ]
    }
   ],
   "source": [
    "import numpy as np \n",
    "a = np.array([10,20,30])\n",
    "print(a.dtype)"
   ]
  },
  {
   "cell_type": "code",
   "execution_count": 10,
   "id": "178c4572",
   "metadata": {},
   "outputs": [],
   "source": [
    "import numpy as np\n",
    "\n",
    "a=np.array([10,20,30],dtype=np.uint32)"
   ]
  },
  {
   "cell_type": "code",
   "execution_count": 11,
   "id": "f7e94580",
   "metadata": {},
   "outputs": [],
   "source": [
    "import numpy as np\n",
    "\n",
    "a=np.array([10,20,30],dtype=\"f\")"
   ]
  },
  {
   "cell_type": "code",
   "execution_count": 12,
   "id": "8a6e63d7",
   "metadata": {},
   "outputs": [
    {
     "name": "stdout",
     "output_type": "stream",
     "text": [
      "[b'1' b'2' b'3' b'4']\n",
      "|S1\n"
     ]
    }
   ],
   "source": [
    "import numpy as np\n",
    "\n",
    "arr = np.array([1, 2, 3, 4], dtype='S')\n",
    "\n",
    "print(arr)\n",
    "print(arr.dtype)"
   ]
  },
  {
   "cell_type": "code",
   "execution_count": 13,
   "id": "c50cc44f",
   "metadata": {},
   "outputs": [
    {
     "name": "stdout",
     "output_type": "stream",
     "text": [
      "[1 2 3 4]\n",
      "int32\n"
     ]
    }
   ],
   "source": [
    "import numpy as np\n",
    "\n",
    "arr = np.array([1, 2, 3, 4], dtype='i4')\n",
    "\n",
    "print(arr)\n",
    "print(arr.dtype)\n"
   ]
  },
  {
   "cell_type": "code",
   "execution_count": 19,
   "id": "272b35ed",
   "metadata": {},
   "outputs": [
    {
     "name": "stdout",
     "output_type": "stream",
     "text": [
      "[1 2 3]\n",
      "int32\n"
     ]
    }
   ],
   "source": [
    "import numpy as np\n",
    "\n",
    "arr = np.array([1.1, 2.1, 3.1])\n",
    "\n",
    "newarr = arr.astype('i')#\n",
    "\n",
    "print(newarr)\n",
    "print(newarr.dtype)\n"
   ]
  },
  {
   "cell_type": "code",
   "execution_count": 20,
   "id": "5359cb6b",
   "metadata": {},
   "outputs": [
    {
     "name": "stdout",
     "output_type": "stream",
     "text": [
      "[ True False  True]\n",
      "bool\n"
     ]
    }
   ],
   "source": [
    "import numpy as np\n",
    "\n",
    "arr = np.array([1, 0, 3])\n",
    "\n",
    "newarr = arr.astype(bool)\n",
    "\n",
    "print(newarr)\n",
    "print(newarr.dtype)"
   ]
  },
  {
   "cell_type": "code",
   "execution_count": 21,
   "id": "6fdf07fc",
   "metadata": {},
   "outputs": [
    {
     "name": "stdout",
     "output_type": "stream",
     "text": [
      "[42  2  3  4  5]\n",
      "[1 2 3 4 5]\n"
     ]
    }
   ],
   "source": [
    "import numpy as np\n",
    "\n",
    "arr = np.array([1, 2, 3, 4, 5])\n",
    "x = arr.copy()\n",
    "arr[0] = 42\n",
    "\n",
    "print(arr)\n",
    "print(x)\n"
   ]
  },
  {
   "cell_type": "code",
   "execution_count": 22,
   "id": "ca6b516e",
   "metadata": {},
   "outputs": [
    {
     "name": "stdout",
     "output_type": "stream",
     "text": [
      "[42  2  3  4  5]\n",
      "[42  2  3  4  5]\n"
     ]
    }
   ],
   "source": [
    "import numpy as np\n",
    "\n",
    "arr = np.array([1, 2, 3, 4, 5])\n",
    "x = arr.view()\n",
    "arr[0] = 42\n",
    "\n",
    "print(arr)\n",
    "print(x)\n"
   ]
  },
  {
   "cell_type": "code",
   "execution_count": 23,
   "id": "48d76615",
   "metadata": {},
   "outputs": [
    {
     "name": "stdout",
     "output_type": "stream",
     "text": [
      "[31  2  3  4  5]\n",
      "[31  2  3  4  5]\n"
     ]
    }
   ],
   "source": [
    "import numpy as np\n",
    "\n",
    "arr = np.array([1, 2, 3, 4, 5])\n",
    "x = arr.view()\n",
    "x[0] = 31\n",
    "\n",
    "print(arr)\n",
    "print(x)"
   ]
  },
  {
   "cell_type": "code",
   "execution_count": 24,
   "id": "f06b0bea",
   "metadata": {},
   "outputs": [
    {
     "name": "stdout",
     "output_type": "stream",
     "text": [
      "None\n",
      "[1 2 3 4 5]\n"
     ]
    }
   ],
   "source": [
    "import numpy as np\n",
    "\n",
    "arr = np.array([1, 2, 3, 4, 5])\n",
    "\n",
    "x = arr.copy()\n",
    "y = arr.view()\n",
    "\n",
    "print(x.base)\n",
    "print(y.base)\n"
   ]
  },
  {
   "cell_type": "code",
   "execution_count": 25,
   "id": "75d08243",
   "metadata": {},
   "outputs": [
    {
     "name": "stdout",
     "output_type": "stream",
     "text": [
      "(2, 4)\n"
     ]
    }
   ],
   "source": [
    "import numpy as np\n",
    "\n",
    "arr = np.array([[1, 2, 3, 4], [5, 6, 7, 8]])\n",
    "\n",
    "print(arr.shape)\n"
   ]
  },
  {
   "cell_type": "code",
   "execution_count": 41,
   "id": "0b5818d9",
   "metadata": {},
   "outputs": [
    {
     "name": "stdout",
     "output_type": "stream",
     "text": [
      "[1 2 3]\n",
      "54\n",
      "[[1 2 3]\n",
      " [4 5 6]]\n",
      "[[[1 2 3]\n",
      "  [4 5 6]]\n",
      "\n",
      " [[7 8 9]\n",
      "  [0 1 2]]]\n",
      "1\n",
      "0\n",
      "2\n",
      "3\n",
      "<class 'numpy.ndarray'>\n",
      "<class 'numpy.ndarray'>\n"
     ]
    }
   ],
   "source": [
    "#basic of Numpyor creation of ndarray\n",
    "import numpy\n",
    "a=numpy.array([1,2,3])\n",
    "b=numpy.array(54)\n",
    "c=numpy.array([[1,2,3],[4,5,6]])#2 dimentions array\n",
    "d=numpy.array([[[1,2,3],[4,5,6]],[[7,8,9],[0,1,2]]]) \n",
    "print(a)\n",
    "print(b)\n",
    "print(c)\n",
    "print(d)\n",
    "print(a.ndim)\n",
    "print(b.ndim)\n",
    "print(c.ndim)\n",
    "print(d.ndim)\n",
    "print(type(a))\n",
    "print(type(b))\n",
    "\n"
   ]
  },
  {
   "cell_type": "code",
   "execution_count": 45,
   "id": "da38e5f3",
   "metadata": {},
   "outputs": [],
   "source": [
    "#ASARRAY( ) , FROMBUFFER( ) , FROMITER( ) IN NUMPY (ARRAYS WITH EXISTING DATA) - PYTHON PROGRAMMING\n",
    "#arrays with existing data \n",
    "#asarray(input(list,tuple,any combination),dtype(int,float),order(row major\"C\",column major\"F\"))\n",
    "#order(row major\"C\",column major\"F\"[[10,20,30]\n",
    "#                                   [40,50,60]]\n",
    "#R.M -10,20,30,40,50,60 ROW MEASURE\n",
    "#COLUMN MEASURE C.M -10 40 20 50 30 60\n",
    "\n",
    "l=[10,20,30]#list\n",
    "A=[10 20 30]#array\n",
    "import numpy as np \n",
    "np.asarray(l,dtype=\"float\",order=\"\")\n",
    "#nditer()\n"
   ]
  },
  {
   "cell_type": "code",
   "execution_count": 52,
   "id": "9b385122",
   "metadata": {},
   "outputs": [
    {
     "name": "stdout",
     "output_type": "stream",
     "text": [
      "[b'W' b'e' b'l' b'c' b'o' b'm' b'e']\n"
     ]
    }
   ],
   "source": [
    "#frombuffer(buffer,dtype,count,offset)\n",
    "#create an array with given datatype of given length from given position\n",
    "import numpy as np\n",
    "s=b\"Welcome\"\n",
    "result_array=np.frombuffer(s, dtype=\"S1\",count=-1,offset=0) #by default count=-1\n",
    "print(result_array)\n"
   ]
  },
  {
   "cell_type": "code",
   "execution_count": 53,
   "id": "0fa0904a",
   "metadata": {},
   "outputs": [
    {
     "name": "stdout",
     "output_type": "stream",
     "text": [
      "[b'W' b'e' b'l']\n"
     ]
    }
   ],
   "source": [
    "import numpy as np\n",
    "s=b\"Welcome\"\n",
    "result_array=np.frombuffer(s, dtype=\"S1\",count=3,offset=0)\n",
    "#by default count=-1\n",
    "#offset means where starting point to abstract\n",
    "print(result_array)"
   ]
  },
  {
   "cell_type": "code",
   "execution_count": 55,
   "id": "a921550b",
   "metadata": {},
   "outputs": [
    {
     "name": "stdout",
     "output_type": "stream",
     "text": [
      "[b'c' b'o' b'm']\n"
     ]
    }
   ],
   "source": [
    "import numpy as np\n",
    "s=b\"Welcome\"\n",
    "result_array=np.frombuffer(s, dtype=\"S1\",count=3,offset=3) #by default count=-1\n",
    "print(result_array)"
   ]
  },
  {
   "cell_type": "code",
   "execution_count": 64,
   "id": "2cdb0d2b",
   "metadata": {},
   "outputs": [
    {
     "name": "stdout",
     "output_type": "stream",
     "text": [
      "[10. 20. 30.]\n"
     ]
    }
   ],
   "source": [
    "#fromiter(sequence can ne considered as iter)\n",
    "#fromiter(iterable(list,tuple),dtype(int,float),count(lemgth of returned array , by default count=-1))\n",
    "import numpy as np\n",
    "t=(10,20,30)\n",
    "result_array=np.fromiter(t,dtype=\"float\", count=-1)\n",
    "print(result_array)"
   ]
  },
  {
   "cell_type": "code",
   "execution_count": 66,
   "id": "bffd94fa",
   "metadata": {},
   "outputs": [
    {
     "name": "stdout",
     "output_type": "stream",
     "text": [
      "[10 20 30]\n"
     ]
    }
   ],
   "source": [
    "import numpy as np\n",
    "t=(10,20,30)\n",
    "result_array=np.fromiter(t,dtype=int)\n",
    "print(result_array)"
   ]
  },
  {
   "cell_type": "code",
   "execution_count": 68,
   "id": "cc4cbce0",
   "metadata": {},
   "outputs": [
    {
     "name": "stdout",
     "output_type": "stream",
     "text": [
      "[10. 20.]\n"
     ]
    }
   ],
   "source": [
    "import numpy as np\n",
    "t=(10,20,30)\n",
    "result_array=np.fromiter(t,dtype=\"float\", count=2)\n",
    "print(result_array)"
   ]
  },
  {
   "cell_type": "code",
   "execution_count": 69,
   "id": "6b0fb6be",
   "metadata": {},
   "outputs": [
    {
     "name": "stdout",
     "output_type": "stream",
     "text": [
      "[10 20 30 40 50 60]\n"
     ]
    }
   ],
   "source": [
    "import numpy as np\n",
    "a=np.array([10,20,30,40,50,60])\n",
    "print(a)"
   ]
  },
  {
   "cell_type": "code",
   "execution_count": 70,
   "id": "af65c999",
   "metadata": {},
   "outputs": [
    {
     "name": "stdout",
     "output_type": "stream",
     "text": [
      "[10. 20. 30. 40. 50. 60.]\n"
     ]
    }
   ],
   "source": [
    "res=np.asarray(a,dtype=\"float\",order=\"C\")\n",
    "print(res)"
   ]
  },
  {
   "cell_type": "code",
   "execution_count": 71,
   "id": "f9492d69",
   "metadata": {},
   "outputs": [
    {
     "name": "stdout",
     "output_type": "stream",
     "text": [
      "[[10 20 30]\n",
      " [40 50 60]]\n"
     ]
    }
   ],
   "source": [
    "b=np.array([[10,20,30],[40,50,60]])\n",
    "print(b)"
   ]
  },
  {
   "cell_type": "code",
   "execution_count": 75,
   "id": "a0872d14",
   "metadata": {},
   "outputs": [
    {
     "name": "stdout",
     "output_type": "stream",
     "text": [
      "[[10 20 30]\n",
      " [40 50 60]]\n"
     ]
    }
   ],
   "source": [
    "res1=numpy.asarray(b,dtype=\"int\",order=\"F\")\n",
    "res1=np.asarray(b,dtype=\"int\",order=\"F\")\n",
    "print(res1)"
   ]
  },
  {
   "cell_type": "code",
   "execution_count": 77,
   "id": "74cd65cc",
   "metadata": {},
   "outputs": [
    {
     "name": "stdout",
     "output_type": "stream",
     "text": [
      "10\n",
      "40\n",
      "20\n",
      "50\n",
      "30\n",
      "60\n"
     ]
    }
   ],
   "source": [
    "for i in np.nditer(res1):\n",
    "    print(i)"
   ]
  },
  {
   "cell_type": "code",
   "execution_count": 82,
   "id": "0f9903b8",
   "metadata": {},
   "outputs": [
    {
     "name": "stdout",
     "output_type": "stream",
     "text": [
      "10\n",
      "20\n",
      "30\n",
      "40\n",
      "50\n",
      "60\n"
     ]
    }
   ],
   "source": [
    "res2=np.asarray(b,dtype=\"int\",order=\"C\")\n",
    "for i in np.nditer(res2):\n",
    "    print(i)\n",
    "  "
   ]
  },
  {
   "cell_type": "code",
   "execution_count": 83,
   "id": "a1db4495",
   "metadata": {},
   "outputs": [
    {
     "name": "stdout",
     "output_type": "stream",
     "text": [
      "[[10 20 30]\n",
      " [40 50 60]]\n"
     ]
    }
   ],
   "source": [
    "print(res2)"
   ]
  },
  {
   "cell_type": "code",
   "execution_count": 84,
   "id": "1bc05bf1",
   "metadata": {},
   "outputs": [],
   "source": [
    "s=b\"hello welcome to python\""
   ]
  },
  {
   "cell_type": "code",
   "execution_count": 86,
   "id": "fe05d8da",
   "metadata": {},
   "outputs": [
    {
     "name": "stdout",
     "output_type": "stream",
     "text": [
      "[b'h' b'e' b'l' b'l' b'o' b' ' b'w' b'e' b'l' b'c' b'o' b'm' b'e' b' '\n",
      " b't' b'o' b' ' b'p' b'y' b't' b'h' b'o' b'n']\n"
     ]
    }
   ],
   "source": [
    "c=np.frombuffer(s,dtype=\"S1\",count=-1, offset=0)\n",
    "print(c)"
   ]
  },
  {
   "cell_type": "code",
   "execution_count": 88,
   "id": "612c2e9c",
   "metadata": {},
   "outputs": [
    {
     "name": "stdout",
     "output_type": "stream",
     "text": [
      "[b'h' b'e' b'l' b'l' b'o' b' ' b'w' b'e' b'l' b'c']\n"
     ]
    }
   ],
   "source": [
    "c=np.frombuffer(s,dtype=\"S1\",count=10, offset=0)\n",
    "print(c)"
   ]
  },
  {
   "cell_type": "code",
   "execution_count": 90,
   "id": "53aad387",
   "metadata": {},
   "outputs": [
    {
     "name": "stdout",
     "output_type": "stream",
     "text": [
      "[10. 20. 30. 40. 50.]\n"
     ]
    }
   ],
   "source": [
    "list=[10,20,30,40,50]\n",
    "d=np.fromiter(list,dtype=\"float\",count=-1)\n",
    "print(d)"
   ]
  },
  {
   "cell_type": "code",
   "execution_count": 92,
   "id": "67f104ed",
   "metadata": {},
   "outputs": [
    {
     "name": "stdout",
     "output_type": "stream",
     "text": [
      "[b'1' b'2' b'3' b'4' b'5']\n"
     ]
    }
   ],
   "source": [
    "list=[10,20,30,40,50]\n",
    "d=np.fromiter(list,dtype=\"S1\",count=-1)\n",
    "print(d)"
   ]
  },
  {
   "cell_type": "code",
   "execution_count": 94,
   "id": "45d67086",
   "metadata": {},
   "outputs": [
    {
     "name": "stdout",
     "output_type": "stream",
     "text": [
      "[b'1' b'2']\n"
     ]
    }
   ],
   "source": [
    "list=[10,20,30,40,50]\n",
    "d=np.fromiter(list,dtype=\"S1\",count=2)\n",
    "print(d)"
   ]
  },
  {
   "cell_type": "code",
   "execution_count": 95,
   "id": "d49cde8e",
   "metadata": {},
   "outputs": [
    {
     "name": "stdout",
     "output_type": "stream",
     "text": [
      "[10. 20.]\n"
     ]
    }
   ],
   "source": [
    "list=[10,20,30,40,50]\n",
    "d=np.fromiter(list,dtype=\"float\",count=2)\n",
    "print(d)"
   ]
  }
 ],
 "metadata": {
  "kernelspec": {
   "display_name": "Python 3 (ipykernel)",
   "language": "python",
   "name": "python3"
  },
  "language_info": {
   "codemirror_mode": {
    "name": "ipython",
    "version": 3
   },
   "file_extension": ".py",
   "mimetype": "text/x-python",
   "name": "python",
   "nbconvert_exporter": "python",
   "pygments_lexer": "ipython3",
   "version": "3.11.4"
  }
 },
 "nbformat": 4,
 "nbformat_minor": 5
}
