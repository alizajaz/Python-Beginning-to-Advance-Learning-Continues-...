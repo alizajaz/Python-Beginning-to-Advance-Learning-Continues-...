{
 "cells": [
  {
   "cell_type": "code",
   "execution_count": 1,
   "id": "217c5ea0",
   "metadata": {},
   "outputs": [
    {
     "name": "stdout",
     "output_type": "stream",
     "text": [
      "hello,World\n"
     ]
    }
   ],
   "source": [
    "print('hello,World')"
   ]
  },
  {
   "cell_type": "code",
   "execution_count": 4,
   "id": "001fa9b0",
   "metadata": {},
   "outputs": [
    {
     "name": "stdout",
     "output_type": "stream",
     "text": [
      "Whats your name? aliza\n",
      "hello\n",
      "aliza\n"
     ]
    }
   ],
   "source": [
    "name=input('Whats your name? ')\n",
    "print('hello')\n",
    "print(name)"
   ]
  },
  {
   "cell_type": "code",
   "execution_count": 8,
   "id": "9e9121e1",
   "metadata": {},
   "outputs": [
    {
     "name": "stdout",
     "output_type": "stream",
     "text": [
      "Whats x?6\n",
      "Whats y?3\n",
      "2\n",
      "2.00\n"
     ]
    }
   ],
   "source": [
    "x=float(input('Whats x?'))\n",
    "y=float(input('Whats y?'))\n",
    "z=round(x/y)\n",
    "print (z)\n",
    "print(f'{z:.2f}')#programming we can slove same problem with multiple way"
   ]
  },
  {
   "cell_type": "code",
   "execution_count": 27,
   "id": "a34b84cf",
   "metadata": {},
   "outputs": [
    {
     "name": "stdout",
     "output_type": "stream",
     "text": [
      "Hi\n"
     ]
    }
   ],
   "source": [
    "def greeting():\n",
    "    return 'Hi'\n",
    "response = greeting()\n",
    "print(response)\n"
   ]
  },
  {
   "cell_type": "code",
   "execution_count": null,
   "id": "70dff4ad",
   "metadata": {},
   "outputs": [],
   "source": [
    "\n",
    "def get_choices():\n",
    "    player_choice = input('Enter a choice ( rock, paper, scissors:)')\n",
    "    computer_choice ='paper'\n",
    "    choices={'player':player_choice,'computer':computer_choice}\n",
    "    return choices\n",
    "\n",
    "choices = get_choices()\n",
    "print (choices)\n",
    "    \n",
    "   \n"
   ]
  },
  {
   "cell_type": "code",
   "execution_count": 32,
   "id": "cf8fef54",
   "metadata": {},
   "outputs": [
    {
     "name": "stdout",
     "output_type": "stream",
     "text": [
      "Enter a choice ( rock, paper, scissors:)scissors\n",
      "{'player': 'scissors', 'computer': 'rock'}\n"
     ]
    }
   ],
   "source": [
    "#importing libraries,List Methods\n",
    "#list store multiple item in single variable\n",
    "#e.g food=['pizza,'carrot',eggs]\n",
    "#dinner=random.choice()food\n",
    "import random\n",
    "def get_choices():\n",
    "    player_choice = input('Enter a choice ( rock, paper, scissors:)')\n",
    "    options=['rock','paper','scissor']\n",
    "    computer_choice =random.choice(options)\n",
    "    choices={'player':player_choice,'computer':computer_choice}\n",
    "    return choices\n",
    "\n",
    "choices = get_choices()\n",
    "print (choices)\n"
   ]
  },
  {
   "cell_type": "code",
   "execution_count": 34,
   "id": "510264b7",
   "metadata": {},
   "outputs": [
    {
     "name": "stdout",
     "output_type": "stream",
     "text": [
      "Enter a choice ( rock, paper, scissors:)rock\n",
      "{'player': 'rock', 'computer': 'paper'}\n"
     ]
    }
   ],
   "source": [
    "#importing libraries,List Methods\n",
    "#list store multiple item in single variable\n",
    "#e.g food=['pizza,'carrot',eggs]\n",
    "#dinner=random.choice()food\n",
    "#Arguements\n",
    "import random\n",
    "def get_choices():\n",
    "    player_choice = input('Enter a choice ( rock, paper, scissors:)')\n",
    "    options=['rock','paper','scissor']\n",
    "    computer_choice =random.choice(options)\n",
    "    choices={'player':player_choice,'computer':computer_choice}\n",
    "    return choices\n",
    "\n",
    "choices = get_choices()\n",
    "print (choices)\n",
    "\n",
    "#Arguement\n",
    "\n",
    "def check_win(player,computer):\n",
    "    return [player,computer]\n",
    "    "
   ]
  },
  {
   "cell_type": "code",
   "execution_count": 45,
   "id": "c6f41de1",
   "metadata": {},
   "outputs": [
    {
     "name": "stdout",
     "output_type": "stream",
     "text": [
      "Enter a choice ( rock, paper, scissors:)rock\n",
      "{'player': 'rock', 'computer': 'scissor'}\n",
      "You choose rock, computer choose paper\n"
     ]
    }
   ],
   "source": [
    "#importing libraries,List Methods\n",
    "#list store multiple item in single variable\n",
    "#e.g food=['pizza,'carrot',eggs]\n",
    "#dinner=random.choice()food\n",
    "#Arguements\n",
    "#use ifstatement\n",
    "import random\n",
    "def get_choices():\n",
    "    player_choice = input('Enter a choice ( rock, paper, scissors:)')\n",
    "    options=['rock','paper','scissor']\n",
    "    computer_choice =random.choice(options)\n",
    "    choices={'player':player_choice,'computer':computer_choice}\n",
    "    return choices\n",
    "\n",
    "choices = get_choices()\n",
    "print (choices)\n",
    "\n",
    "#Arguement\n",
    "\n",
    "def check_win(player,computer):\n",
    "    print('You choose '+ player +', computer choose '+computer)\n",
    "    if player==computer:#if statemenr\n",
    "        return 'Its a tie!' \n",
    "check_win('rock','paper')       \n",
    "\n",
    "    "
   ]
  },
  {
   "cell_type": "code",
   "execution_count": 57,
   "id": "bbb624ca",
   "metadata": {},
   "outputs": [
    {
     "name": "stdout",
     "output_type": "stream",
     "text": [
      "Enter a choice ( rock, paper, scissors):scissors\n",
      "You choose scissors, computer choose rock\n",
      "Rock smashes scissors!you lose\n"
     ]
    }
   ],
   "source": [
    "#importing libraries,List Methods\n",
    "#list store multiple item in single variable\n",
    "#e.g food=['pizza,'carrot',eggs]\n",
    "#dinner=random.choice()food\n",
    "#Arguements\n",
    "#use ifstatement\n",
    "import random\n",
    "def get_choices():\n",
    "    player_choice = input('Enter a choice ( rock, paper, scissors):')\n",
    "    options=['rock','paper','scissor']\n",
    "    computer_choice =random.choice(options)\n",
    "    choices={'player':player_choice,'computer':computer_choice}\n",
    "    return choices\n",
    "\n",
    "\n",
    "#Arguement\n",
    "#if elif statement\n",
    "#refractor\n",
    "\n",
    "def check_win(player,computer):\n",
    "    print('You choose '+ player +', computer choose '+computer)\n",
    "    if player==computer: #if elif statement\n",
    "        return 'Its a tie!'\n",
    "    \n",
    "    elif player=='rock':\n",
    "        if computer=='scissors':\n",
    "            return 'Rock smashes scisoor!you win!'\n",
    "        else:\n",
    "            return 'Paper covers rock!you lose'\n",
    "        \n",
    "    elif player=='paper':\n",
    "        if computer=='rock':\n",
    "            return 'Paper covers rock!you win!'\n",
    "        else:\n",
    "            return 'Scissor cuts paper!you lose'\n",
    "    \n",
    "    elif player=='scissors':\n",
    "        if computer=='paper':\n",
    "            return 'Scissor cut paper!you win!'\n",
    "        else:\n",
    "            return 'Rock smashes scissors!you lose'\n",
    "        \n",
    "choices=get_choices()#accessing dictionary value \n",
    "result=check_win(choices['player'],choices['computer'])\n",
    "print(result)"
   ]
  }
 ],
 "metadata": {
  "kernelspec": {
   "display_name": "Python 3 (ipykernel)",
   "language": "python",
   "name": "python3"
  },
  "language_info": {
   "codemirror_mode": {
    "name": "ipython",
    "version": 3
   },
   "file_extension": ".py",
   "mimetype": "text/x-python",
   "name": "python",
   "nbconvert_exporter": "python",
   "pygments_lexer": "ipython3",
   "version": "3.11.4"
  }
 },
 "nbformat": 4,
 "nbformat_minor": 5
}
