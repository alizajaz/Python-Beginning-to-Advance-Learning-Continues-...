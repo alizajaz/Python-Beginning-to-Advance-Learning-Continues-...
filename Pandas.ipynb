{
 "cells": [
  {
   "cell_type": "code",
   "execution_count": 3,
   "id": "0e58f586",
   "metadata": {},
   "outputs": [
    {
     "name": "stdout",
     "output_type": "stream",
     "text": [
      "Requirement already satisfied: pandas in c:\\users\\admin\\anaconda3\\lib\\site-packages (1.5.3)\n",
      "Requirement already satisfied: python-dateutil>=2.8.1 in c:\\users\\admin\\anaconda3\\lib\\site-packages (from pandas) (2.8.2)\n",
      "Requirement already satisfied: pytz>=2020.1 in c:\\users\\admin\\anaconda3\\lib\\site-packages (from pandas) (2022.7)\n",
      "Requirement already satisfied: numpy>=1.21.0 in c:\\users\\admin\\anaconda3\\lib\\site-packages (from pandas) (1.24.3)\n",
      "Requirement already satisfied: six>=1.5 in c:\\users\\admin\\anaconda3\\lib\\site-packages (from python-dateutil>=2.8.1->pandas) (1.16.0)\n"
     ]
    }
   ],
   "source": [
    "!pip install pandas"
   ]
  },
  {
   "cell_type": "code",
   "execution_count": 4,
   "id": "1db8429a",
   "metadata": {},
   "outputs": [],
   "source": [
    "import pandas as pd #used to reas dataframe and dataset such csv data,txt data,xlsx data"
   ]
  },
  {
   "cell_type": "code",
   "execution_count": 5,
   "id": "584d317f",
   "metadata": {},
   "outputs": [
    {
     "data": {
      "text/plain": [
       "0        banana\n",
       "1         apple\n",
       "2    strawberry\n",
       "dtype: object"
      ]
     },
     "execution_count": 5,
     "metadata": {},
     "output_type": "execute_result"
    }
   ],
   "source": [
    "shop=['banana','apple','strawberry']\n",
    "pd.Series(shop)"
   ]
  },
  {
   "cell_type": "code",
   "execution_count": 7,
   "id": "4a945945",
   "metadata": {},
   "outputs": [
    {
     "data": {
      "text/plain": [
       "0      1\n",
       "1      2\n",
       "2      3\n",
       "3      4\n",
       "4      5\n",
       "5      6\n",
       "6      7\n",
       "7      8\n",
       "8      9\n",
       "9     10\n",
       "10     0\n",
       "dtype: int64"
      ]
     },
     "execution_count": 7,
     "metadata": {},
     "output_type": "execute_result"
    }
   ],
   "source": [
    "num=[1,2,3,4,5,6,7,8,9,10,0]\n",
    "pd.Series(num)"
   ]
  },
  {
   "cell_type": "code",
   "execution_count": 8,
   "id": "336a075f",
   "metadata": {},
   "outputs": [
    {
     "data": {
      "text/plain": [
       "0        banana\n",
       "1         apple\n",
       "2    strawberry\n",
       "3          None\n",
       "dtype: object"
      ]
     },
     "execution_count": 8,
     "metadata": {},
     "output_type": "execute_result"
    }
   ],
   "source": [
    "shop.append(None)#append will add None\n",
    "pd.Series(shop)"
   ]
  },
  {
   "cell_type": "code",
   "execution_count": 9,
   "id": "a643ed43",
   "metadata": {},
   "outputs": [
    {
     "data": {
      "text/plain": [
       "0        banana\n",
       "1         apple\n",
       "2    strawberry\n",
       "3          None\n",
       "4         aliza\n",
       "dtype: object"
      ]
     },
     "execution_count": 9,
     "metadata": {},
     "output_type": "execute_result"
    }
   ],
   "source": [
    "shop.append('aliza')#append will add None\n",
    "pd.Series(shop)"
   ]
  },
  {
   "cell_type": "code",
   "execution_count": 11,
   "id": "010421a6",
   "metadata": {},
   "outputs": [
    {
     "data": {
      "text/plain": [
       "0      1.0\n",
       "1      2.0\n",
       "2      3.0\n",
       "3      4.0\n",
       "4      5.0\n",
       "5      6.0\n",
       "6      7.0\n",
       "7      8.0\n",
       "8      9.0\n",
       "9     10.0\n",
       "10     0.0\n",
       "11     NaN\n",
       "12     NaN\n",
       "dtype: float64"
      ]
     },
     "execution_count": 11,
     "metadata": {},
     "output_type": "execute_result"
    }
   ],
   "source": [
    "num.append(None)\n",
    "pd.Series(num)"
   ]
  },
  {
   "cell_type": "code",
   "execution_count": 20,
   "id": "dad993ca",
   "metadata": {},
   "outputs": [
    {
     "data": {
      "text/plain": [
       "laptop           Dell\n",
       "Mobile          Apple\n",
       "Tablet        Samsung\n",
       "Speaker    Portronics\n",
       "dtype: object"
      ]
     },
     "execution_count": 20,
     "metadata": {},
     "output_type": "execute_result"
    }
   ],
   "source": [
    "tech={\n",
    "    'laptop':'Dell',\n",
    "    'Mobile':'Apple',\n",
    "    'Tablet':'Samsung',\n",
    "    'Speaker':'Portronics'\n",
    "}\n",
    "t=pd.Series(tech)\n",
    "t"
   ]
  },
  {
   "cell_type": "code",
   "execution_count": 22,
   "id": "627e09f7",
   "metadata": {},
   "outputs": [
    {
     "data": {
      "text/plain": [
       "Index(['laptop', 'Mobile', 'Tablet', 'Speaker'], dtype='object')"
      ]
     },
     "execution_count": 22,
     "metadata": {},
     "output_type": "execute_result"
    }
   ],
   "source": [
    "t.index#index function wil give index value of element"
   ]
  },
  {
   "cell_type": "code",
   "execution_count": 23,
   "id": "4ec557d6",
   "metadata": {},
   "outputs": [
    {
     "data": {
      "text/plain": [
       "laptop      Dell\n",
       "Mobile     Apple\n",
       "Samsung      NaN\n",
       "dtype: object"
      ]
     },
     "execution_count": 23,
     "metadata": {},
     "output_type": "execute_result"
    }
   ],
   "source": [
    "s=pd.Series(tech,index=['laptop', 'Mobile', 'Samsung'])\n",
    "s"
   ]
  },
  {
   "cell_type": "code",
   "execution_count": 24,
   "id": "290d443d",
   "metadata": {},
   "outputs": [
    {
     "data": {
      "text/plain": [
       "'Samsung'"
      ]
     },
     "execution_count": 24,
     "metadata": {},
     "output_type": "execute_result"
    }
   ],
   "source": [
    "#find element on particular index\n",
    "t.iloc[2]#index location"
   ]
  },
  {
   "cell_type": "code",
   "execution_count": 25,
   "id": "b4b6a863",
   "metadata": {},
   "outputs": [
    {
     "data": {
      "text/plain": [
       "'Portronics'"
      ]
     },
     "execution_count": 25,
     "metadata": {},
     "output_type": "execute_result"
    }
   ],
   "source": [
    "t.loc['Speaker']"
   ]
  },
  {
   "cell_type": "code",
   "execution_count": 26,
   "id": "8e0917b2",
   "metadata": {},
   "outputs": [
    {
     "data": {
      "text/plain": [
       "'Samsung'"
      ]
     },
     "execution_count": 26,
     "metadata": {},
     "output_type": "execute_result"
    }
   ],
   "source": [
    "t[2]"
   ]
  }
 ],
 "metadata": {
  "kernelspec": {
   "display_name": "Python 3 (ipykernel)",
   "language": "python",
   "name": "python3"
  },
  "language_info": {
   "codemirror_mode": {
    "name": "ipython",
    "version": 3
   },
   "file_extension": ".py",
   "mimetype": "text/x-python",
   "name": "python",
   "nbconvert_exporter": "python",
   "pygments_lexer": "ipython3",
   "version": "3.11.4"
  }
 },
 "nbformat": 4,
 "nbformat_minor": 5
}
